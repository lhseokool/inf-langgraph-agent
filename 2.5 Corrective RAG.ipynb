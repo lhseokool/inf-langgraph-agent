{
  "cells": [
    {
      "cell_type": "markdown",
      "metadata": {},
      "source": [
        "# 2.5 웹 검색을 지원하는 Corrective RAG"
      ]
    },
    {
      "cell_type": "markdown",
      "metadata": {},
      "source": [
        "- [Corrective Retrieval Augmented Generation](https://arxiv.org/pdf/2401.15884)논문을 구현합니다\n",
        "- LangGraph 공식문서에 나온 흐름을 따라갑니다\n",
        "    - 공식문서의 흐름은 간소화된 버전입니다.\n",
        "    - 실제 논문과 유사한 구현은 3.3강을 참고해주세요\n",
        "![corrective-rag](https://i.imgur.com/IzvmbWN.png)"
      ]
    },
    {
      "cell_type": "code",
      "execution_count": 1,
      "metadata": {},
      "outputs": [
        {
          "data": {
            "text/plain": [
              "True"
            ]
          },
          "execution_count": 1,
          "metadata": {},
          "output_type": "execute_result"
        }
      ],
      "source": [
        "from dotenv import load_dotenv\n",
        "\n",
        "load_dotenv()"
      ]
    },
    {
      "cell_type": "code",
      "execution_count": 2,
      "metadata": {},
      "outputs": [],
      "source": [
        "from langchain_chroma import Chroma\n",
        "from langchain_openai import OpenAIEmbeddings\n",
        "\n",
        "embedding_function = OpenAIEmbeddings(model='text-embedding-3-large')\n",
        "\n",
        "vector_store = Chroma(\n",
        "    embedding_function=embedding_function,\n",
        "    collection_name = 'income_tax_collection',\n",
        "    persist_directory = './income_tax_collection'\n",
        ")\n",
        "retriever = vector_store.as_retriever(search_kwargs={'k': 3})"
      ]
    },
    {
      "cell_type": "code",
      "execution_count": 3,
      "metadata": {},
      "outputs": [],
      "source": [
        "from typing_extensions import TypedDict\n",
        "from langgraph.graph import StateGraph\n",
        "\n",
        "class AgentState(TypedDict):\n",
        "    query: str\n",
        "    context: list\n",
        "    answer: str\n",
        "    \n",
        "graph_builder = StateGraph(AgentState)"
      ]
    },
    {
      "cell_type": "code",
      "execution_count": 4,
      "metadata": {},
      "outputs": [],
      "source": [
        "def retrieve(state: AgentState) -> AgentState:\n",
        "    \"\"\"\n",
        "    사용자의 질문에 기반하여 벡터 스토어에서 관련 문서를 검색합니다.\n",
        "\n",
        "    Args:\n",
        "        state (AgentState): 사용자의 질문을 포함한 에이전트의 현재 state.\n",
        "\n",
        "    Returns:\n",
        "        AgentState: 검색된 문서가 추가된 state를 반환합니다.\n",
        "    \"\"\"\n",
        "    query = state['query']\n",
        "    docs = retriever.invoke(query)\n",
        "    return {'context': docs}"
      ]
    },
    {
      "cell_type": "code",
      "execution_count": 5,
      "metadata": {},
      "outputs": [],
      "source": [
        "from langchain_openai import ChatOpenAI\n",
        "\n",
        "llm = ChatOpenAI(model='gpt-4o')"
      ]
    },
    {
      "cell_type": "code",
      "execution_count": 6,
      "metadata": {},
      "outputs": [
        {
          "name": "stderr",
          "output_type": "stream",
          "text": [
            "/Users/jasonkang/.pyenv/versions/3.12.2/envs/inflearn-langgraph-lecture/lib/python3.12/site-packages/langsmith/client.py:256: LangSmithMissingAPIKeyWarning: API key must be provided when using hosted LangSmith API\n",
            "  warnings.warn(\n"
          ]
        }
      ],
      "source": [
        "from langchain import hub\n",
        "\n",
        "# 허브에서 RAG 프롬프트를 가져옵니다\n",
        "generate_prompt = hub.pull(\"rlm/rag-prompt\")\n",
        "\n",
        "# 지정된 매개변수로 언어 모델을 초기화합니다\n",
        "generate_llm = ChatOpenAI(model='gpt-4o', max_completion_tokens=100)\n",
        "\n",
        "def generate(state: AgentState) -> AgentState:\n",
        "    \"\"\"\n",
        "    주어진 state를 기반으로 RAG 체인을 사용하여 응답을 생성합니다.\n",
        "\n",
        "    Args:\n",
        "        state (AgentState): 사용자의 질문과 문맥을 포함한 에이전트의 현재 state.\n",
        "\n",
        "    Returns:\n",
        "        AgentState: 생성된 응답을 포함하는 state를 반환합니다.\n",
        "    \"\"\"\n",
        "    context = state['context']\n",
        "    query = state['query']\n",
        "    \n",
        "    rag_chain = generate_prompt | generate_llm\n",
        "    \n",
        "    response = rag_chain.invoke({'question': query, 'context': context})\n",
        "    \n",
        "    return {'answer': response.content}"
      ]
    },
    {
      "cell_type": "markdown",
      "metadata": {},
      "source": [
        "- `retrieve` 노드에서 추출된 문서와 사용자의 질문이 관련이 있는지 판단합니다\n",
        "    - 문서와 관련이 없다면 `rewrite` 노드로 이동해서 사용자의 질문을 변경합니다\n",
        "        - `rewrite` 후 다시 `web_search` 노드로 이동해서 웹 검색을 합니다\n",
        "    - 문서와 관련이 있다면 `generate` 노드로 이동해서 답변을 생성합니다"
      ]
    },
    {
      "cell_type": "code",
      "execution_count": 7,
      "metadata": {},
      "outputs": [
        {
          "name": "stderr",
          "output_type": "stream",
          "text": [
            "/Users/jasonkang/.pyenv/versions/3.12.2/envs/inflearn-langgraph-lecture/lib/python3.12/site-packages/langsmith/client.py:256: LangSmithMissingAPIKeyWarning: API key must be provided when using hosted LangSmith API\n",
            "  warnings.warn(\n"
          ]
        }
      ],
      "source": [
        "# set the LANGCHAIN_API_KEY environment variable (create key in settings)\n",
        "from langchain import hub\n",
        "from typing import Literal\n",
        "doc_relevance_prompt = hub.pull(\"langchain-ai/rag-document-relevance\")\n",
        "\n",
        "def check_doc_relevance(state: AgentState) -> Literal['relevant', 'irrelvant']:\n",
        "    \"\"\"\n",
        "    주어진 state를 기반으로 문서의 관련성을 판단합니다.\n",
        "\n",
        "    Args:\n",
        "        state (AgentState): 사용자의 질문과 문맥을 포함한 에이전트의 현재 state.\n",
        "\n",
        "    Returns:\n",
        "        Literal['relevant', 'irrelevant']: 문서가 관련성이 높으면 'relevant', 그렇지 않으면 'irrelevant'를 반환합니다.\n",
        "    \"\"\"\n",
        "    query = state['query']\n",
        "    context = state['context']\n",
        "\n",
        "    doc_relevance_chain = doc_relevance_prompt | llm\n",
        "    response = doc_relevance_chain.invoke({'question': query, 'documents': context})\n",
        "\n",
        "    if response['Score'] == 1:\n",
        "        return 'relevant'\n",
        "    \n",
        "    return 'irrelvant'"
      ]
    },
    {
      "cell_type": "code",
      "execution_count": 8,
      "metadata": {},
      "outputs": [],
      "source": [
        "from langchain_core.prompts import PromptTemplate\n",
        "from langchain_core.output_parsers import StrOutputParser\n",
        "\n",
        "rewrite_prompt = PromptTemplate.from_template(\"\"\"사용자의 질문을 보고, 웹 검색에 용이하게 사용자의 질문을 수정해주세요\n",
        "질문: {query}\n",
        "\"\"\")\n",
        "\n",
        "def rewrite(state: AgentState):\n",
        "    \"\"\"\n",
        "    사용자의 질문을 사전을 참고하여 변경합니다.\n",
        "\n",
        "    Args:\n",
        "        state (AgentState): 사용자의 질문을 포함한 에이전트의 현재 state.\n",
        "\n",
        "    Returns:\n",
        "        AgentState: 변경된 질문을 포함하는 state를 반환합니다.\n",
        "    \"\"\"\n",
        "    query = state['query']\n",
        "    rewrite_chain = rewrite_prompt | llm | StrOutputParser()\n",
        "\n",
        "    response = rewrite_chain.invoke({'query': query})\n",
        "\n",
        "    return {'query': response}\n"
      ]
    },
    {
      "cell_type": "markdown",
      "metadata": {},
      "source": [
        "- `web_search` 노드에서 웹 검색을 합니다\n",
        "- `retrieve` 결과 대신 웹 검색 결과를 사용합니다\n",
        "    - 웹 검색 결과는 [TavilySearchResults](https://tavily.com/) 툴을 사용합니다"
      ]
    },
    {
      "cell_type": "code",
      "execution_count": 9,
      "metadata": {},
      "outputs": [],
      "source": [
        "from langchain_community.tools import TavilySearchResults\n",
        "\n",
        "tavily_search_tool = TavilySearchResults(\n",
        "    max_results=3,\n",
        "    search_depth=\"advanced\",\n",
        "    include_answer=True,\n",
        "    include_raw_content=True,\n",
        "    include_images=True,\n",
        ")\n",
        "\n",
        "def web_search(state: AgentState) -> AgentState:\n",
        "    \"\"\"\n",
        "    주어진 state를 기반으로 웹 검색을 수행합니다.\n",
        "\n",
        "    Args:\n",
        "        state (AgentState): 사용자의 질문을 포함한 에이전트의 현재 state.\n",
        "\n",
        "    Returns:\n",
        "        AgentState: 웹 검색 결과가 추가된 state를 반환합니다.\n",
        "    \"\"\"\n",
        "    query = state['query']\n",
        "    results = tavily_search_tool.invoke(query)\n",
        "\n",
        "    return {'context': results}"
      ]
    },
    {
      "cell_type": "markdown",
      "metadata": {},
      "source": [
        "- `node`를 추가하고 `edge`로 연결합니다"
      ]
    },
    {
      "cell_type": "code",
      "execution_count": 10,
      "metadata": {},
      "outputs": [
        {
          "data": {
            "text/plain": [
              "<langgraph.graph.state.StateGraph at 0x147745760>"
            ]
          },
          "execution_count": 10,
          "metadata": {},
          "output_type": "execute_result"
        }
      ],
      "source": [
        "graph_builder.add_node('retrieve', retrieve)\n",
        "graph_builder.add_node('generate', generate)\n",
        "# graph_builder.add_node('rewrite', rewrite)\n",
        "graph_builder.add_node('web_search', web_search)"
      ]
    },
    {
      "cell_type": "code",
      "execution_count": 11,
      "metadata": {},
      "outputs": [
        {
          "data": {
            "text/plain": [
              "<langgraph.graph.state.StateGraph at 0x147745760>"
            ]
          },
          "execution_count": 11,
          "metadata": {},
          "output_type": "execute_result"
        }
      ],
      "source": [
        "from langgraph.graph import START, END\n",
        "\n",
        "graph_builder.add_edge(START, 'retrieve')\n",
        "graph_builder.add_conditional_edges(\n",
        "    'retrieve',\n",
        "    check_doc_relevance,\n",
        "    {\n",
        "        'relevant': 'generate',\n",
        "        'irrelvant': 'web_search'\n",
        "    }\n",
        ")\n",
        "# graph_builder.add_edge('rewrite', 'web_search')\n",
        "graph_builder.add_edge('web_search', 'generate')\n",
        "graph_builder.add_edge('generate', END)"
      ]
    },
    {
      "cell_type": "code",
      "execution_count": 12,
      "metadata": {},
      "outputs": [],
      "source": [
        "graph = graph_builder.compile()"
      ]
    },
    {
      "cell_type": "code",
      "execution_count": 13,
      "metadata": {},
      "outputs": [
        {
          "data": {
            "image/png": "[encoded data removed]",
            "text/plain": [
              "<IPython.core.display.Image object>"
            ]
          },
          "metadata": {},
          "output_type": "display_data"
        }
      ],
      "source": [
        "from IPython.display import Image, display\n",
        "\n",
        "display(Image(graph.get_graph().draw_mermaid_png()))"
      ]
    },
    {
      "cell_type": "code",
      "execution_count": 14,
      "metadata": {},
      "outputs": [
        {
          "name": "stdout",
          "output_type": "stream",
          "text": [
            "context == [Document(metadata={'source': './documents/income_tax.txt'}, page_content='② 제70조제1항, 제70조의2에 따른 제74조에 따라 차례로 할 것이 제70조제1항제2호에 따르며 서류를 제출하여야 한다는 경우에는 기준소득 중 거주자 본인이 된다(분산)과 제70조제2와 제74조에 따른 제료 및 제대법을 포함한다. 단, 차별제표청정인 그 업체를 남겨 제출한 경우로 그에 대하여 아니하다.<개정 2013. 1. 1.>\\n  ③ 제80조에 따른 수익과 관련의 경우에는 기초공제 중 거주자 본인이 된다(분산)과 그에 관한 적지사항을 분명히 한다.\\n[전문개정 2009. 12. 31.]\\n[제목개정 2014. 1. 1.]\\n제54조의2(공동사업에 대한 소득공제 등 특례) 제51조의3 또는 「조세특례제한법」에 따른 소득공제를 적용하거나 제59조의2에 따른 세액감면을 적용하는 경우 제54조제3항에 따라 공동사업자의 소득에 합산과세되는 특별세액거래의 지출․납입․투자 등의 금액이 있을 경우 주된 공동사업자의 소득에 합산과세되는 소득금액에 합산되어 주된 공동사업자의 합산과세세액은 공동사업소득액 또는 공동사업창출세액을 계산할 때 소득공제 또는 세액공제를 받을 수 있다. \\n[개정 2014. 1. 1.]\\n[전문개정 2009. 12. 31.]\\n[제목개정 2014. 1. 1.]\\n제2절 세액의 계산 <개정 2009. 12. 31.>\\n제1관 세율 <개정 2009. 12. 31.>\\n제55조(세율) 거주자의 종합소득에 대한 소득세는 해당 연도의 종합소득과세표준에 다음의 세율을 적용하여 계산한 금액(이하 \"종합소득과세표준세액\"이라 한다)을 그 세액으로 한다. <개정 2014. 1. 1., 2016. 12. 20., 2017. 12. 19., 2020. 12. 29., 2022. 12. 31.>\\n종합소득\\n┌───────────────┐\\n│ 과세표준의 6개 구간 │\\n├───────────────┤\\n│ 1,400만원 이하        │ 84만원 + (1,400만원을 초과하는 금액의 15%)  │\\n│ 1,400만원 초과        │ 84만원 + (5,000만원을 초과하는 금액의 24%)  │\\n│ 8,800만원 이하        │ 624만원 + (5,000만원을 초과하는 금액의 24%)  │\\n│ 8,800만원 초과        │ 1,536만원 + (8,800만원을 초과하는 금액의 35%)  │\\n│ 1.5억원 초과          │ 4,046만원 + (1,500만원을 초과하는 금액의 38%)  │\\n│ 3억원 초과            │ 6,460만원 + (3억원을 초과하는 금액의 40%)  │\\n│ 5억원 초과            │ 14,760만원 + (5억원을 초과하는 금액의 42%)  │\\n│ 10억원 초과           │ 38,406만원 + (10억원을 초과하는 금액의 45%)  │\\n└───────────────┘\\n② 거주자의 퇴직소득에 대한 소득세는 다음 각 호의 순서에 따라 계산한 금액(이하 ‘퇴직소득 산출세액’이라 한다)으로 한다. <개정 2013. 1. 1., 2014. 12. 23.>'), Document(metadata={'source': './documents/income_tax.txt'}, page_content='5년 이하: 30만원 → 납입연수\\n5년 초과 10년 이하: 150만원 + 50만원 × (납입연수 - 5년)\\n10년 초과 20년 이하: 400만원 + 80만원 × (납입연수 - 10년)\\n20년 초과: 1,200만원 + 120만원 × (납입연수 - 20년)\\n\\n② 직장근로자 초과관세환급금을 분배하여 지급받는 경우 세액의 계산 방법 등 필요한 사항은 대통령령으로 정한다. \\n<대통령 2014. 12. 23.>\\n<전문개정 2009. 12. 31.>\\n제64조(부동산매매업자에 대한 세액 계산의 특례)\\n1) 대통령령으로 정하는 부동산매매업(이하 “부동산매매업”이라 한다)을 영위하는 거주자가 이하 “부동산매매업자”라 한다)로서 종합소득세법에 제104조제1항제1호(본항을 포함한다) 및 제103조 또는 같은 조 제7항 각 호의 어느 하나에 해당하는 자산의 매매자익(이하 “주택등매매차익”이라 한다)이 있는 자의 종합소득 산출세액은 다음 각 호의 세액 중 많은 것으로 한다. \\n<개정 2014. 12. 23., 2017. 12. 19., 2020. 12. 29.>\\n1. 종합소득 산출세액\\n\\n다음 각 목에 따른 세액의 합계액\\n  가. 주택등매매차익에 따른 세율을 적용하여 산출한 세액의 합계액\\n  나. 종합소득세법 제55조에 따라 주택등매매차익에 대한 개별세액을 공제한 금액을 과세표준으로 하고 이에 제55조에 따른 세율을 적용하여 산출세액'), Document(metadata={'source': './documents/income_tax.txt'}, page_content='근무기한: 개월 수로 계산한다. 이 경우 1개월 미만의 기간이 있는 경우에는 이를 1개월로 본다.\\n종합소득: 봉급ㆍ상여 등 제20조제1항제1호 및 제23조에 따른 포괄소득(제12조전단에 따른 비과세소득은 제외한다)을 한다.\\n⑤ 삭제<2013. 1. 1.>\\n⑥ 퇴직소득의 범위 및 계산방법과 그 밖에 필요한 사항은 대통령령으로 정한다.<전문개정 2009. 12. 31.>\\n\\n제23조 <삭제 2006. 12. 30.>\\n제3절 소득금액의 계산\\n제5장 2009. 12. 31.>\\n제1항 총수입금액 <개정 2009. 12. 31.>\\n제24조(총수입금액의 계산) ① 거주자 각 소득에 대한 총수입액(총급여액과 총연금액을 포함한다. 이하 같다)은 해당 과세기간에 수입하였거나 수입할 금액의 합계액으로 한다.\\n② 제1항의 경우 금지 외의 자원을 수입할 때는 그 수입금액을 그 거래 당시의 가격에 의하여 계산한다.\\n총수입액을 계산할 때 수입하였거나 수입할 금액의 범위와 계산에 관한 필요한 사항은 대통령령으로 정한다.<전문개정 2009. 12. 31.>\\n제25조(총수입금액의 계산과 특례) ① 거주자가 부동산 또는 그 부동산상의 권리 등을 대여하거나 보증금ㆍ전세금 또는 이와 유사한 성질의 금액(이하 \"보증금\"이라 한다)을 받는 경우에는 대통령령으로 정하는 범에 따라 계산한 금액을 상속소득금액에산입할 때 총수입금액에 산입한다. 다만, 주택자금의 용도로 보이는 명저 1조(F) 또는 1세대당 3천미터 이하인 주택으로서 해당 세기기간이 기준시가가 2억인 이하 주택을 2026년 12월 31일까지 주택 수입 계산하지 아니하는 대여요금받는 경우에는 다음 중 하나의 하나에 해당하는 경우를 하며, 주택 수의 계산에 필요한 사항은 대통령령으로 정한다. <개정 2012. 1. 1., 2014. 1. 1., 2016. 12. 20, 2018. 12. 31, 2021. 12. 8, 2023. 12. 31.>\\n\\n3주택 이상을 소유하며 해당 주택의 보증금의 합계액이 3억원을 초과하는 경우  \\n주택당(해당 주택의 기준시가가 12억원 이하인 주택 주택에 포함하지 아니하는 것을 소유하거나 해당 주택의 보증금의 합계액이 3억원 이상인 경우로서 대통령령으로 정하는 금액을 초과하는 경우\\n거주자가 재산소득(資産所得) 또는 임금을 가사로 소비하지증명된 날에 지급받는 경우에 이를 소비하지 않고 사용하는 금액에 대해 가액에 해당하는 금액을 소비하지 않으면 소득금액에 대한 선입법의 사업소득금액에 산입한다.<삭제 2021. 12. 19.>\\n[시행일: 2026. 1. 1. <지방소득세법 제25조제1항제1호>]')]\n",
            "doc relevance response: {'Score': 1, 'Explanation': 'The FACTS provided contain detailed information about income tax calculations, including specific tax brackets and the rates applied to various income levels. The QUESTION asks about the income tax for a resident with an annual income of 50 million won. The FACTS include tax rates for different income brackets, such as a 24% rate for income exceeding certain thresholds, which is directly relevant to calculating the income tax for 50 million won. Therefore, these FACTS are related to the QUESTION because they provide the necessary information to determine the tax amount for a given income level. Hence, the score is 1.'}\n"
          ]
        },
        {
          "data": {
            "text/plain": [
              "{'query': '연봉 5천만원 거주자의 소득세는 얼마인가요?',\n",
              " 'context': [Document(metadata={'source': './documents/income_tax.txt'}, page_content='② 제70조제1항, 제70조의2에 따른 제74조에 따라 차례로 할 것이 제70조제1항제2호에 따르며 서류를 제출하여야 한다는 경우에는 기준소득 중 거주자 본인이 된다(분산)과 제70조제2와 제74조에 따른 제료 및 제대법을 포함한다. 단, 차별제표청정인 그 업체를 남겨 제출한 경우로 그에 대하여 아니하다.<개정 2013. 1. 1.>\\n  ③ 제80조에 따른 수익과 관련의 경우에는 기초공제 중 거주자 본인이 된다(분산)과 그에 관한 적지사항을 분명히 한다.\\n[전문개정 2009. 12. 31.]\\n[제목개정 2014. 1. 1.]\\n제54조의2(공동사업에 대한 소득공제 등 특례) 제51조의3 또는 「조세특례제한법」에 따른 소득공제를 적용하거나 제59조의2에 따른 세액감면을 적용하는 경우 제54조제3항에 따라 공동사업자의 소득에 합산과세되는 특별세액거래의 지출․납입․투자 등의 금액이 있을 경우 주된 공동사업자의 소득에 합산과세되는 소득금액에 합산되어 주된 공동사업자의 합산과세세액은 공동사업소득액 또는 공동사업창출세액을 계산할 때 소득공제 또는 세액공제를 받을 수 있다. \\n[개정 2014. 1. 1.]\\n[전문개정 2009. 12. 31.]\\n[제목개정 2014. 1. 1.]\\n제2절 세액의 계산 <개정 2009. 12. 31.>\\n제1관 세율 <개정 2009. 12. 31.>\\n제55조(세율) 거주자의 종합소득에 대한 소득세는 해당 연도의 종합소득과세표준에 다음의 세율을 적용하여 계산한 금액(이하 \"종합소득과세표준세액\"이라 한다)을 그 세액으로 한다. <개정 2014. 1. 1., 2016. 12. 20., 2017. 12. 19., 2020. 12. 29., 2022. 12. 31.>\\n종합소득\\n┌───────────────┐\\n│ 과세표준의 6개 구간 │\\n├───────────────┤\\n│ 1,400만원 이하        │ 84만원 + (1,400만원을 초과하는 금액의 15%)  │\\n│ 1,400만원 초과        │ 84만원 + (5,000만원을 초과하는 금액의 24%)  │\\n│ 8,800만원 이하        │ 624만원 + (5,000만원을 초과하는 금액의 24%)  │\\n│ 8,800만원 초과        │ 1,536만원 + (8,800만원을 초과하는 금액의 35%)  │\\n│ 1.5억원 초과          │ 4,046만원 + (1,500만원을 초과하는 금액의 38%)  │\\n│ 3억원 초과            │ 6,460만원 + (3억원을 초과하는 금액의 40%)  │\\n│ 5억원 초과            │ 14,760만원 + (5억원을 초과하는 금액의 42%)  │\\n│ 10억원 초과           │ 38,406만원 + (10억원을 초과하는 금액의 45%)  │\\n└───────────────┘\\n② 거주자의 퇴직소득에 대한 소득세는 다음 각 호의 순서에 따라 계산한 금액(이하 ‘퇴직소득 산출세액’이라 한다)으로 한다. <개정 2013. 1. 1., 2014. 12. 23.>'),\n",
              "  Document(metadata={'source': './documents/income_tax.txt'}, page_content='5년 이하: 30만원 → 납입연수\\n5년 초과 10년 이하: 150만원 + 50만원 × (납입연수 - 5년)\\n10년 초과 20년 이하: 400만원 + 80만원 × (납입연수 - 10년)\\n20년 초과: 1,200만원 + 120만원 × (납입연수 - 20년)\\n\\n② 직장근로자 초과관세환급금을 분배하여 지급받는 경우 세액의 계산 방법 등 필요한 사항은 대통령령으로 정한다. \\n<대통령 2014. 12. 23.>\\n<전문개정 2009. 12. 31.>\\n제64조(부동산매매업자에 대한 세액 계산의 특례)\\n1) 대통령령으로 정하는 부동산매매업(이하 “부동산매매업”이라 한다)을 영위하는 거주자가 이하 “부동산매매업자”라 한다)로서 종합소득세법에 제104조제1항제1호(본항을 포함한다) 및 제103조 또는 같은 조 제7항 각 호의 어느 하나에 해당하는 자산의 매매자익(이하 “주택등매매차익”이라 한다)이 있는 자의 종합소득 산출세액은 다음 각 호의 세액 중 많은 것으로 한다. \\n<개정 2014. 12. 23., 2017. 12. 19., 2020. 12. 29.>\\n1. 종합소득 산출세액\\n\\n다음 각 목에 따른 세액의 합계액\\n  가. 주택등매매차익에 따른 세율을 적용하여 산출한 세액의 합계액\\n  나. 종합소득세법 제55조에 따라 주택등매매차익에 대한 개별세액을 공제한 금액을 과세표준으로 하고 이에 제55조에 따른 세율을 적용하여 산출세액'),\n",
              "  Document(metadata={'source': './documents/income_tax.txt'}, page_content='근무기한: 개월 수로 계산한다. 이 경우 1개월 미만의 기간이 있는 경우에는 이를 1개월로 본다.\\n종합소득: 봉급ㆍ상여 등 제20조제1항제1호 및 제23조에 따른 포괄소득(제12조전단에 따른 비과세소득은 제외한다)을 한다.\\n⑤ 삭제<2013. 1. 1.>\\n⑥ 퇴직소득의 범위 및 계산방법과 그 밖에 필요한 사항은 대통령령으로 정한다.<전문개정 2009. 12. 31.>\\n\\n제23조 <삭제 2006. 12. 30.>\\n제3절 소득금액의 계산\\n제5장 2009. 12. 31.>\\n제1항 총수입금액 <개정 2009. 12. 31.>\\n제24조(총수입금액의 계산) ① 거주자 각 소득에 대한 총수입액(총급여액과 총연금액을 포함한다. 이하 같다)은 해당 과세기간에 수입하였거나 수입할 금액의 합계액으로 한다.\\n② 제1항의 경우 금지 외의 자원을 수입할 때는 그 수입금액을 그 거래 당시의 가격에 의하여 계산한다.\\n총수입액을 계산할 때 수입하였거나 수입할 금액의 범위와 계산에 관한 필요한 사항은 대통령령으로 정한다.<전문개정 2009. 12. 31.>\\n제25조(총수입금액의 계산과 특례) ① 거주자가 부동산 또는 그 부동산상의 권리 등을 대여하거나 보증금ㆍ전세금 또는 이와 유사한 성질의 금액(이하 \"보증금\"이라 한다)을 받는 경우에는 대통령령으로 정하는 범에 따라 계산한 금액을 상속소득금액에산입할 때 총수입금액에 산입한다. 다만, 주택자금의 용도로 보이는 명저 1조(F) 또는 1세대당 3천미터 이하인 주택으로서 해당 세기기간이 기준시가가 2억인 이하 주택을 2026년 12월 31일까지 주택 수입 계산하지 아니하는 대여요금받는 경우에는 다음 중 하나의 하나에 해당하는 경우를 하며, 주택 수의 계산에 필요한 사항은 대통령령으로 정한다. <개정 2012. 1. 1., 2014. 1. 1., 2016. 12. 20, 2018. 12. 31, 2021. 12. 8, 2023. 12. 31.>\\n\\n3주택 이상을 소유하며 해당 주택의 보증금의 합계액이 3억원을 초과하는 경우  \\n주택당(해당 주택의 기준시가가 12억원 이하인 주택 주택에 포함하지 아니하는 것을 소유하거나 해당 주택의 보증금의 합계액이 3억원 이상인 경우로서 대통령령으로 정하는 금액을 초과하는 경우\\n거주자가 재산소득(資産所得) 또는 임금을 가사로 소비하지증명된 날에 지급받는 경우에 이를 소비하지 않고 사용하는 금액에 대해 가액에 해당하는 금액을 소비하지 않으면 소득금액에 대한 선입법의 사업소득금액에 산입한다.<삭제 2021. 12. 19.>\\n[시행일: 2026. 1. 1. <지방소득세법 제25조제1항제1호>]')],\n",
              " 'answer': '연봉 5천만 원 거주자의 소득세는 624만 원입니다. 이는 과세표준이 5천만 원을 초과하지 않기 때문에 해당 구간의 세율을 적용한 결과입니다.'}"
            ]
          },
          "execution_count": 14,
          "metadata": {},
          "output_type": "execute_result"
        }
      ],
      "source": [
        "initial_state = {'query': '연봉 5천만원 거주자의 소득세는 얼마인가요?'}\n",
        "graph.invoke(initial_state)"
      ]
    },
    {
      "cell_type": "code",
      "execution_count": 15,
      "metadata": {},
      "outputs": [
        {
          "name": "stdout",
          "output_type": "stream",
          "text": [
            "context == [Document(metadata={'source': './documents/income_tax.txt'}, page_content='담당세무서로서 담당공무원에게 지명이음으로는 보호를 위하는 바에 따라 담의 다음을 말하기는 것에 대한 해상금의 숙소는 본 해당하는 숙소는 달의 다음과 함께 말할 것이다. <개정 2020. 12. 29, 2021. 3. 16.>\\n법제처 151\\n국가법전정보센터'), Document(metadata={'source': './documents/income_tax.txt'}, page_content='소특별판\\n경우에는 100분의 30에 해당하는 금액을 해당 과세기간의 종합소득세법에서 공제한다. \\n<개정 2014. 12. 23., 2016. 12. 20., 2017. 12. 19, 2021. 12. 8, 2023. 12. 31.>'), Document(metadata={'source': './documents/income_tax.txt'}, page_content=\"- ㉠ '국가기본세법'에 따라 사업등록을 하는 사업자는 해당 사업에 관하여 제18항에 따라 등록할 것으로 판단한다.\\n  ② 법인에 대한 사업등록을 하는 사업자의 관하여는 “부가가치세법, 제조업법 중관다., 제168조 6.7-”.\\n    사업장 소재지의 법인으로는 단체 및 법인 단체의 소재지 관할 세무서가 다음 각 호의 어느 하나에 해당하는 자에게 대통령령으로 정하는 바에 따라 고유번호를 매길 수 있다.\\n  1. 종합소득이 있는 사업자가 아닌 자\\n  2. '대형일반중간지원법', 대한 등록된 단체 등 과세표준 및 소득증명 사무 경험을 위하여 필요한 일정온의 자\\n[전문개정 2009. 12. 31.]\\n제169조(교부금의 지급)\\n국세청장은 제150조에 따라 소득세를 증수하여 납부한 자에게 대통령령으로 정하는 바에 따라 교부금을 지급하여야 한다.\\n[전문개정 2009. 12. 31.]\\n제170조(질문·조사)\\n① 소틀세에 관한 사무에 종사하는 공무원은 그 직무 수행을 위하여 필요한 경우에는 다음 각 호의 어느 하나에 해당하는 자에게 질문을 하거나 해당 정부·서류 또는 그 밖의 물건을 조사하거나 그 제출을 명할 수 있다. 다만, 제21조제1항제26호에 따른 공공미소득제21조제위생법의 경우를 포함하는 데 대하여 종교단체의 장사 · 서류 또는 그 밖의 물건 중에서 종교의식과 관련된 부분에 한정하여 조사하거나 그 제출을 명할 수 있다.\\n  1. 남제기무자 또는 남제에 의한 인증되는 자\\n  2. 원천징수의무자\\n  3. 남비세통제 및 제정에 관한 자\\n  4. 방문능의를 지원하는 자 및 등록된 단체의 과세관리인\\n  5. 남제에 의해 규정하는 자가 아닌 인증되는 자\\n  6. 기부금 영수증 발급하는 자\\n  7. 제1항을 적용할 경우 소틀세에 관한 사무에 종사하는 공무원은 직무를 위하여 필요한 법의 제6 이하의 목적 등 을 위하여 그 관련을 긴용해야 하는 것이 아니다.\\n[신설 2018. 12. 31., 2020. 12. 29.]\\n법제처 \\n155\\n국가기본정보센터\\n소맥세반\\n[전문개정 2009. 12. 31.]\\n제171조(자문)\\n세무서장, 지방국세청장 또는 국세청장은 소득세에 관한 신 - 결정 - 경정 또는 조사를 할 때 필요한 사항과 관련된 사항에 대하여 단체 또는 해당 사업에 정통(精通)한 자에게 소득세에 관한 사항을 자문할 수 있다.\\n[전문개정 2009. 12. 31.]\\n제172조(예각·동기 - 동부관세 서류 등의 열람)\\n관할 세무서장, 지방국세청장 또는 그 위임을 받은 세무공무원에게 이 기재의 제한 사항에 소속을 파악하기 위하여 다음 각 호의 자료에 대한 관계 서류의 열람 또는 복사를 요청하는 경우 관계기관은 정당한 사유가 없으면 이에 따라야 한다.\\n1. 주택, 토지, 공짜재산, 선박, 건설기계 및 자동차 등의 매각·동기·등록자료\\n2. '국민권익위원회'에 따른 수수료 등의 소득, 재산 및 경비 자료\\n3. '국민연금법'에 따른 가입자 등의 소득, 재산 및 연금 자료\\n4. '국민건강보험법'에 따른 가입자 등의 소득, 재산 및 요양급여 자료\")]\n",
            "doc relevance response: {'Score': 0, 'Explanation': 'The QUESTION asks for restaurant recommendations near Yeoksam Station (역삼역 맛집), which is a location-specific query related to dining options. The FACTS provided are excerpts from a document regarding income tax laws and regulations, which discuss topics such as tax exemptions, business registration, tax office responsibilities, and other tax-related legalities. There are no keywords or semantic meanings in the FACTS that are related to the QUESTION about restaurants or dining recommendations near Yeoksam Station. Therefore, the FACTS are completely unrelated to the QUESTION, resulting in a score of 0.'}\n",
            "web search results == [{'url': 'https://bacchor.tistory.com/182', 'content': '오늘은 역삼역 맛집 베스트 10 추천에 대해 알아보도록 하겠습니다. ♬ CONTENTS 동경전통육개장 평양옥 신정 바게트케이 이도곰탕 대우부대찌개 에빗 스시산원 청 스터번 지아니스나폴리 1. 동경전통육개장 역삼역 맛집 베스트 10 추천 첫 번째! 전통 육개장을 포함하여 육개장 칼국수, 육개장 전골 등'}, {'url': 'https://forourtour.com/역삼동-맛집/', 'content': '역삼동 맛집 추천 베스트 10 | 역삼역 강남역 데이트 | 점심 저녁 핫플 국내 맛집 역삼동 맛집 추천 베스트 10 | 역삼역 강남역 데이트 | 점심 저녁 핫플 관련 검색어에는 서울 역삼동 맛집 추천 베스트 한식 일식 술집 점심 저녁 핫플 역삼역 강남역 센터필드 데이트 놀거리 지도 음식점 분위기 재방문 리뷰 리스트 입니다. 역삼동 맛집 추천 모음 호보식당: 역삼역 핫플 마늘갈비 추천 맛집 – 홈페이지 바로가기 이 곳의 대표 메뉴인 마늘갈비는 마늘 양념이 잔뜩 올라간 갈비로, 바질, 할라피뇨, 고수로 만든 특제 소스 조합으로 함께 먹으면 더욱 맛있다고 합니다. 떡도리탕: 역삼동 점심 저녁 추천 맛집 – 거리뷰 바로가기 유니네 고깃간: 역삼동 저녁 추천 고기 맛집 – 거리뷰 바로가기 사이드 메뉴인 김치말이냉국수도 맛있다고 하니 함께 드셔보시길 추천합니다. 미도인 강남: 역삼동 데이트 추천 스테이크 맛집 – 거리뷰 바로가기'}, {'url': 'https://jspringlife.com/entry/역삼역-맛집-💖-요즘-뜨겁게-핫한-역삼역-맛집-Top-8-😎🔥', 'content': \"[역삼역 맛집 💖] 요즘 뜨겁게 핫한 역삼역 맛집 Top 8 😎🔥 [역삼역 맛집 💖] 요즘 뜨겁게 핫한 역삼역 맛집 Top 8 😎🔥 데이트 명소가 너무나 많은 역삼역 맛집에 대해서 알아볼 예정이에요. 그럼 역삼역 맛집 리뷰 시작할게요. [역삼역 맛집 💖] 요즘 뜨겁게 핫한 역삼역 맛집 Top 8 😎🔥 역삼역 맛집!! ✔ 후라토식당 매장 안내 주소 : 서울 강남구 테헤란로 152 지하 1층 P9호 ✔ 동화고옥 매장 안내 주소 : 서울 강남구 테헤란로 129 강남N타워 B2층 '모도우'란 빈틈없이 야무진 사람의 순우리말인 '모도리'와 소 우(牛)의 합성으로 '야무지게 차려낸 한우 다이닝'을 의미합니다. ✔ 모도우 매장 안내 주소 : 서울 강남구 테헤란로 129 강남N타워 B2층 제공 메뉴 : 모도우 런치 A코스(39,000원), 모도우 런치 B코스(59,000원), 모도우 런치 시그니처 코스(89,000원), 모도우 디너 A 코스(129,000원), 콜키지 프리(무료)\"}]\n"
          ]
        },
        {
          "data": {
            "text/plain": [
              "{'query': '역삼역 맛집을 추천해주세요',\n",
              " 'context': [{'url': 'https://bacchor.tistory.com/182',\n",
              "   'content': '오늘은 역삼역 맛집 베스트 10 추천에 대해 알아보도록 하겠습니다. ♬ CONTENTS 동경전통육개장 평양옥 신정 바게트케이 이도곰탕 대우부대찌개 에빗 스시산원 청 스터번 지아니스나폴리 1. 동경전통육개장 역삼역 맛집 베스트 10 추천 첫 번째! 전통 육개장을 포함하여 육개장 칼국수, 육개장 전골 등'},\n",
              "  {'url': 'https://forourtour.com/역삼동-맛집/',\n",
              "   'content': '역삼동 맛집 추천 베스트 10 | 역삼역 강남역 데이트 | 점심 저녁 핫플 국내 맛집 역삼동 맛집 추천 베스트 10 | 역삼역 강남역 데이트 | 점심 저녁 핫플 관련 검색어에는 서울 역삼동 맛집 추천 베스트 한식 일식 술집 점심 저녁 핫플 역삼역 강남역 센터필드 데이트 놀거리 지도 음식점 분위기 재방문 리뷰 리스트 입니다. 역삼동 맛집 추천 모음 호보식당: 역삼역 핫플 마늘갈비 추천 맛집 – 홈페이지 바로가기 이 곳의 대표 메뉴인 마늘갈비는 마늘 양념이 잔뜩 올라간 갈비로, 바질, 할라피뇨, 고수로 만든 특제 소스 조합으로 함께 먹으면 더욱 맛있다고 합니다. 떡도리탕: 역삼동 점심 저녁 추천 맛집 – 거리뷰 바로가기 유니네 고깃간: 역삼동 저녁 추천 고기 맛집 – 거리뷰 바로가기 사이드 메뉴인 김치말이냉국수도 맛있다고 하니 함께 드셔보시길 추천합니다. 미도인 강남: 역삼동 데이트 추천 스테이크 맛집 – 거리뷰 바로가기'},\n",
              "  {'url': 'https://jspringlife.com/entry/역삼역-맛집-💖-요즘-뜨겁게-핫한-역삼역-맛집-Top-8-😎🔥',\n",
              "   'content': \"[역삼역 맛집 💖] 요즘 뜨겁게 핫한 역삼역 맛집 Top 8 😎🔥 [역삼역 맛집 💖] 요즘 뜨겁게 핫한 역삼역 맛집 Top 8 😎🔥 데이트 명소가 너무나 많은 역삼역 맛집에 대해서 알아볼 예정이에요. 그럼 역삼역 맛집 리뷰 시작할게요. [역삼역 맛집 💖] 요즘 뜨겁게 핫한 역삼역 맛집 Top 8 😎🔥 역삼역 맛집!! ✔ 후라토식당 매장 안내 주소 : 서울 강남구 테헤란로 152 지하 1층 P9호 ✔ 동화고옥 매장 안내 주소 : 서울 강남구 테헤란로 129 강남N타워 B2층 '모도우'란 빈틈없이 야무진 사람의 순우리말인 '모도리'와 소 우(牛)의 합성으로 '야무지게 차려낸 한우 다이닝'을 의미합니다. ✔ 모도우 매장 안내 주소 : 서울 강남구 테헤란로 129 강남N타워 B2층 제공 메뉴 : 모도우 런치 A코스(39,000원), 모도우 런치 B코스(59,000원), 모도우 런치 시그니처 코스(89,000원), 모도우 디너 A 코스(129,000원), 콜키지 프리(무료)\"}],\n",
              " 'answer': '역삼역 맛집으로는 동경전통육개장, 호보식당의 마늘갈비, 그리고 미도인 강남의 스테이크를 추천합니다.'}"
            ]
          },
          "execution_count": 15,
          "metadata": {},
          "output_type": "execute_result"
        }
      ],
      "source": [
        "initial_state = {'query': '역삼역 맛집을 추천해주세요'}\n",
        "graph.invoke(initial_state)"
      ]
    },
    {
      "cell_type": "code",
      "execution_count": null,
      "metadata": {},
      "outputs": [],
      "source": []
    }
  ],
  "metadata": {
    "kernelspec": {
      "display_name": "inflearn-langgraph-lecture",
      "language": "python",
      "name": "python3"
    },
    "language_info": {
      "codemirror_mode": {
        "name": "ipython",
        "version": 3
      },
      "file_extension": ".py",
      "mimetype": "text/x-python",
      "name": "python",
      "nbconvert_exporter": "python",
      "pygments_lexer": "ipython3",
      "version": "3.12.2"
    }
  },
  "nbformat": 4,
  "nbformat_minor": 2
}
