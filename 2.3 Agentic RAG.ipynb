{
  "cells": [
    {
      "cell_type": "markdown",
      "metadata": {},
      "source": [
        "# 2.3 공식문서 따라하면 실패하는 Agentic RAG"
      ]
    },
    {
      "cell_type": "markdown",
      "metadata": {},
      "source": [
        "- 이번 회차에서는 `conditional_edge`를 활용하는 방법을 배웁니다\n",
        "    - `conditional_edge는` `LangGraph`에서 조건부 실행 흐름을 제어하는 특별한 종류의 엣지입니다. \n",
        "    - 일반 `edge`와 달리, 특정 조건이 충족될 때만 해당 경로로 실행이 진행됩니다.\n",
        "- `conditional_edge는`는 주로 'if-then' 형태의 로직을 구현할 때 사용됩니다. \n",
        "    - 사용자의 입력이 특정 조건을 만족할 때만 특정 `node`로 이동하고, 그렇지 않으면 다른 경로로 진행하도록 설정할 수 있습니다\n",
        "    - 'if-then'과 다른점은, if-else문을 사용하지 않고, LLM의 판단에 따라 경로를 제어한다는 점입니다"
      ]
    },
    {
      "cell_type": "markdown",
      "metadata": {},
      "source": [
        "- LangGraph 공식문서에 나온 흐름을 따라갑니다\n",
        "    - 공식문서를 따라가면 `rewrite`를 정상적으로 하지 않아 \"살짝\" 변형합니다\n",
        "![agentic-rag](https://i.imgur.com/9NCNGWa.png)"
      ]
    },
    {
      "cell_type": "code",
      "execution_count": null,
      "metadata": {},
      "outputs": [],
      "source": [
        "import dotenv\n",
        "\n",
        "dotenv.load_dotenv()"
      ]
    },
    {
      "cell_type": "code",
      "execution_count": 3,
      "metadata": {},
      "outputs": [],
      "source": [
        "from langchain_chroma import Chroma\n",
        "from langchain_openai import OpenAIEmbeddings\n",
        "\n",
        "embedding_function = OpenAIEmbeddings(model='text-embedding-3-large')\n",
        "\n",
        "vector_store = Chroma(\n",
        "    embedding_function=embedding_function,\n",
        "    collection_name = 'income_tax_collection',\n",
        "    persist_directory = './income_tax_collection'\n",
        ")\n",
        "retriever = vector_store.as_retriever(search_kwargs={'k': 3})"
      ]
    },
    {
      "cell_type": "markdown",
      "metadata": {},
      "source": [
        "- `state`를 선언하고 에이전트를 생성합니다\n",
        "- 2.2강과 같이 RAG 파이프라인 구성이 목적이기 때문에 동일한 `state`를 사용합니다"
      ]
    },
    {
      "cell_type": "code",
      "execution_count": 4,
      "metadata": {},
      "outputs": [],
      "source": [
        "from typing_extensions import List, TypedDict\n",
        "from langchain_core.documents import Document\n",
        "from langgraph.graph import StateGraph\n",
        "\n",
        "class AgentState(TypedDict):\n",
        "    query: str\n",
        "    context: List[Document]\n",
        "    answer: str\n",
        "    \n",
        "graph_builder = StateGraph(AgentState)"
      ]
    },
    {
      "cell_type": "code",
      "execution_count": 5,
      "metadata": {},
      "outputs": [],
      "source": [
        "def pred_essay_level(state: AgentState) -> AgentState:\n",
        "    \"\"\"\n",
        "    사용자의 질문에 기반하여 벡터 스토어에서 관련 문서를 검색합니다.\n",
        "\n",
        "    Args:\n",
        "        state (AgentState): 사용자의 질문을 포함한 에이전트의 현재 state.\n",
        "\n",
        "    Returns:\n",
        "        AgentState: 검색된 문서가 추가된 state를 반환합니다.\n",
        "    \"\"\"\n",
        "    query = state['query']  # state에서 사용자의 질문을 추출합니다.\n",
        "    docs = retriever.invoke(query)  # 질문과 관련된 문서를 검색합니다.\n",
        "    return {'context': docs}  # 검색된 문서를 포함한 state를 반환합니다."
      ]
    },
    {
      "cell_type": "code",
      "execution_count": 6,
      "metadata": {},
      "outputs": [],
      "source": [
        "def select_rubric(state: AgentState) -> AgentState:\n",
        "    \"\"\"\n",
        "    사용자의 질문에 기반하여 벡터 스토어에서 관련 문서를 검색합니다.\n",
        "\n",
        "    Args:\n",
        "        state (AgentState): 사용자의 질문을 포함한 에이전트의 현재 state.\n",
        "\n",
        "    Returns:\n",
        "        AgentState: 검색된 문서가 추가된 state를 반환합니다.\n",
        "    \"\"\"\n",
        "    query = state[\"query\"]  # state에서 사용자의 질문을 추출합니다.\n",
        "    docs = retriever.invoke(query)  # 질문과 관련된 문서를 검색합니다.\n",
        "    return {\"context\": docs}  # 검색된 문서를 포함한 state를 반환합니다."
      ]
    },
    {
      "cell_type": "code",
      "execution_count": 7,
      "metadata": {},
      "outputs": [],
      "source": [
        "def transform_essay(state: AgentState) -> AgentState:\n",
        "    \"\"\"\n",
        "    사용자의 질문에 기반하여 벡터 스토어에서 관련 문서를 검색합니다.\n",
        "\n",
        "    Args:\n",
        "        state (AgentState): 사용자의 질문을 포함한 에이전트의 현재 state.\n",
        "\n",
        "    Returns:\n",
        "        AgentState: 검색된 문서가 추가된 state를 반환합니다.\n",
        "    \"\"\"\n",
        "    query = state[\"query\"]  # state에서 사용자의 질문을 추출합니다.\n",
        "    docs = retriever.invoke(query)  # 질문과 관련된 문서를 검색합니다.\n",
        "    return {\"context\": docs}  # 검색된 문서를 포함한 state를 반환합니다."
      ]
    },
    {
      "cell_type": "code",
      "execution_count": 8,
      "metadata": {},
      "outputs": [],
      "source": [
        "from langchain_openai import ChatOpenAI\n",
        "\n",
        "llm = ChatOpenAI(model=\"gpt-4o\")"
      ]
    },
    {
      "cell_type": "code",
      "execution_count": 9,
      "metadata": {},
      "outputs": [],
      "source": [
        "from langchain import hub\n",
        "\n",
        "# RAG 프롬프트를 가져옵니다.\n",
        "generate_prompt = hub.pull(\"rlm/rag-prompt\")\n",
        "\n",
        "\n",
        "def generate(state: AgentState) -> AgentState:\n",
        "    \"\"\"\n",
        "    주어진 state를 기반으로 RAG 체인을 사용하여 응답을 생성합니다.\n",
        "\n",
        "    Args:\n",
        "        state (AgentState): 사용자의 질문과 문맥을 포함한 에이전트의 현재 state.\n",
        "\n",
        "    Returns:\n",
        "        AgentState: 생성된 응답을 포함하는 state를 반환합니다.\n",
        "    \"\"\"\n",
        "    context = state[\"context\"]  # state에서 문맥을 추출합니다.\n",
        "    query = state[\"query\"]  # state에서 사용자의 질문을 추출합니다.\n",
        "\n",
        "    # RAG 체인을 구성합니다.\n",
        "    rag_chain = generate_prompt | llm\n",
        "\n",
        "    # 질문과 문맥을 사용하여 응답을 생성합니다.\n",
        "    response = rag_chain.invoke({\"question\": query, \"context\": context})\n",
        "\n",
        "    return {\"answer\": response}  # 생성된 응답을 포함하는 state를 반환합니다."
      ]
    },
    {
      "cell_type": "code",
      "execution_count": 10,
      "metadata": {},
      "outputs": [],
      "source": [
        "from langchain_openai import ChatOpenAI\n",
        "\n",
        "llm = ChatOpenAI(model='gpt-4o-mini')"
      ]
    },
    {
      "cell_type": "code",
      "execution_count": 11,
      "metadata": {},
      "outputs": [],
      "source": [
        "from langchain import hub\n",
        "\n",
        "# RAG 프롬프트를 가져옵니다.\n",
        "generate_prompt = hub.pull(\"rlm/rag-prompt\")\n",
        "\n",
        "def evaluate(state: AgentState) -> AgentState:\n",
        "    \"\"\"\n",
        "    주어진 state를 기반으로 RAG 체인을 사용하여 응답을 생성합니다.\n",
        "\n",
        "    Args:\n",
        "        state (AgentState): 사용자의 질문과 문맥을 포함한 에이전트의 현재 state.\n",
        "\n",
        "    Returns:\n",
        "        AgentState: 생성된 응답을 포함하는 state를 반환합니다.\n",
        "    \"\"\"\n",
        "    context = state['context']  # state에서 문맥을 추출합니다.\n",
        "    query = state['query']      # state에서 사용자의 질문을 추출합니다.\n",
        "    \n",
        "    # RAG 체인을 구성합니다.\n",
        "    rag_chain = generate_prompt | llm\n",
        "    \n",
        "    # 질문과 문맥을 사용하여 응답을 생성합니다.\n",
        "    response = rag_chain.invoke({'question': query, 'context': context})\n",
        "    \n",
        "    return {'answer': response}  # 생성된 응답을 포함하는 state를 반환합니다."
      ]
    },
    {
      "cell_type": "markdown",
      "metadata": {},
      "source": [
        "- `conditional_edge`를 활용하여 문서 관련성을 판단하는 로직을 구현합니다\n",
        "    - 에이전트는 LLM의 판단과 의사결정을 따릅니다"
      ]
    },
    {
      "cell_type": "code",
      "execution_count": 43,
      "metadata": {},
      "outputs": [],
      "source": [
        "from langchain import hub\n",
        "from typing import Literal\n",
        "\n",
        "# 문서 관련성 판단을 위한 프롬프트를 가져옵니다.\n",
        "doc_relevance_prompt = hub.pull(\"langchain-ai/rag-document-relevance\")\n",
        "\n",
        "def check_doc_relevance(state: AgentState) -> Literal['check_relevance', 'rewrite']:\n",
        "    \"\"\"\n",
        "    주어진 state를 기반으로 문서의 관련성을 판단합니다.\n",
        "\n",
        "    Args:\n",
        "        state (AgentState): 사용자의 질문과 문맥을 포함한 에이전트의 현재 state.\n",
        "\n",
        "    Returns:\n",
        "        Literal['generate', 'rewrite']: 문서가 관련성이 높으면 'generate', 그렇지 않으면 'rewrite'를 반환합니다.\n",
        "    \"\"\"\n",
        "    query = state['query']  # state에서 사용자의 질문을 추출합니다.\n",
        "    context = state['context']  # state에서 문맥을 추출합니다.\n",
        "\n",
        "    # 문서 관련성 판단 체인을 구성합니다.\n",
        "    doc_relevance_chain = doc_relevance_prompt | llm\n",
        "\n",
        "    # 질문과 문맥을 사용하여 문서의 관련성을 판단합니다.\n",
        "    response = doc_relevance_chain.invoke({'question': query, 'documents': context})\n",
        "\n",
        "    # 관련성이 높으면 'generate'를 반환하고, 그렇지 않으면 'rewrite'를 반환합니다.\n",
        "    if response['Score'] == 1:\n",
        "        return \"transform_essay\"\n",
        "\n",
        "    return \"rewrite\""
      ]
    },
    {
      "cell_type": "code",
      "execution_count": 13,
      "metadata": {},
      "outputs": [],
      "source": [
        "query = '연봉 5천만원 직장인의 소득세는?' "
      ]
    },
    {
      "cell_type": "code",
      "execution_count": 14,
      "metadata": {},
      "outputs": [],
      "source": [
        "from langchain_core.prompts import PromptTemplate\n",
        "from langchain_core.output_parsers import StrOutputParser\n",
        "\n",
        "# 사전 정의: 특정 표현을 다른 표현으로 변환하기 위한 사전입니다.\n",
        "dictionary = ['사람과 관련된 표현 -> 거주자']\n",
        "\n",
        "# 프롬프트 템플릿을 생성합니다. 사용자의 질문을 사전을 참고하여 변경합니다.\n",
        "rewrite_prompt = PromptTemplate.from_template(f\"\"\"\n",
        "사용자의 질문을 보고, 우리의 사전을 참고해서 사용자의 질문을 변경해주세요 \n",
        "사전: {dictionary}                                           \n",
        "질문: {{query}}\n",
        "\"\"\")\n",
        "\n",
        "def rewrite(state: AgentState) -> AgentState:\n",
        "    \"\"\"\n",
        "    사용자의 질문을 사전을 참고하여 변경합니다.\n",
        "\n",
        "    Args:\n",
        "        state (AgentState): 사용자의 질문을 포함한 에이전트의 현재 state.\n",
        "\n",
        "    Returns:\n",
        "        AgentState: 변경된 질문을 포함하는 state를 반환합니다.\n",
        "    \"\"\"\n",
        "    query = state['query']  # state에서 사용자의 질문을 추출합니다.\n",
        "    \n",
        "    # 리라이트 체인을 구성합니다. 프롬프트, LLM, 출력 파서를 연결합니다.\n",
        "    rewrite_chain = rewrite_prompt | llm | StrOutputParser()\n",
        "\n",
        "    # 질문을 변경합니다.\n",
        "    response = rewrite_chain.invoke({'query': query})\n",
        "    \n",
        "    return {'query': response}  # 변경된 질문을 포함하는 state를 반환합니다."
      ]
    },
    {
      "cell_type": "markdown",
      "metadata": {},
      "source": [
        "- `node`를 추가하고 `edge`로 연결합니다"
      ]
    },
    {
      "cell_type": "code",
      "execution_count": 10,
      "metadata": {},
      "outputs": [],
      "source": [
        "# graph_builder.add_node(\"retrieve\", retrieve)\n",
        "# graph_builder.add_node(\"check_doc_relevance\", check_doc_relevance)\n",
        "# graph_builder.add_node(\"generate\", generate)\n",
        "# graph_builder.add_node(\"rewrite\", rewrite)"
      ]
    },
    {
      "cell_type": "code",
      "execution_count": 11,
      "metadata": {},
      "outputs": [],
      "source": [
        "# from langgraph.graph import START, END\n",
        "\n",
        "# graph_builder.add_edge(START, \"retrieve\")\n",
        "# graph_builder.add_conditional_edges(\"retrieve\", generate)\n",
        "# graph_builder.add_conditional_edges(\"retrieve\", rewrite)\n",
        "# graph_builder.add_edge(\"rewrite\", \"retrieve\")\n",
        "# graph_builder.add_edge(\"generate\", END)"
      ]
    },
    {
      "cell_type": "code",
      "execution_count": 12,
      "metadata": {},
      "outputs": [],
      "source": [
        "# graph = graph_builder.compile()"
      ]
    },
    {
      "cell_type": "code",
      "execution_count": 13,
      "metadata": {},
      "outputs": [],
      "source": [
        "# from IPython.display import Image, display\n",
        "\n",
        "# display(Image(graph.get_graph().draw_mermaid_png()))"
      ]
    },
    {
      "cell_type": "markdown",
      "metadata": {},
      "source": [
        "## 수정"
      ]
    },
    {
      "cell_type": "code",
      "execution_count": 44,
      "metadata": {},
      "outputs": [],
      "source": []
    },
    {
      "cell_type": "code",
      "execution_count": 45,
      "metadata": {},
      "outputs": [
        {
          "data": {
            "text/plain": [
              "<langgraph.graph.state.StateGraph at 0x15f1a8210>"
            ]
          },
          "execution_count": 45,
          "metadata": {},
          "output_type": "execute_result"
        }
      ],
      "source": [
        "graph_builder = StateGraph(AgentState)\n",
        "\n",
        "graph_builder.add_node(\"pred_essay_level\", pred_essay_level)\n",
        "graph_builder.add_node(\"select_rubric\", select_rubric)\n",
        "graph_builder.add_node(\"transform_essay\", transform_essay)\n",
        "graph_builder.add_node(\"evaluate\", evaluate)\n",
        "graph_builder.add_node(\"check_relevance\", evaluate)\n",
        "graph_builder.add_node(\"rewrite\", rewrite)"
      ]
    },
    {
      "cell_type": "code",
      "execution_count": 46,
      "metadata": {},
      "outputs": [
        {
          "data": {
            "text/plain": [
              "<langgraph.graph.state.StateGraph at 0x15f1a8210>"
            ]
          },
          "execution_count": 46,
          "metadata": {},
          "output_type": "execute_result"
        }
      ],
      "source": [
        "from langgraph.graph import START, END\n",
        "\n",
        "graph_builder.add_edge(START, \"pred_essay_level\")\n",
        "graph_builder.add_edge('pred_essay_level', \"select_rubric\")\n",
        "graph_builder.add_edge(\"select_rubric\", \"transform_essay\")\n",
        "graph_builder.add_edge(\"transform_essay\", \"evaluate\")\n",
        "graph_builder.add_conditional_edges(\"evaluate\", check_doc_relevance)\n",
        "graph_builder.add_edge(\"rewrite\", \"transform_essay\")\n",
        "graph_builder.add_edge(\"check_relevance\", END)"
      ]
    },
    {
      "cell_type": "code",
      "execution_count": 47,
      "metadata": {},
      "outputs": [],
      "source": [
        "graph = graph_builder.compile()"
      ]
    },
    {
      "cell_type": "code",
      "execution_count": 48,
      "metadata": {},
      "outputs": [
        {
          "data": {
            "image/png": "[encoded data removed]",
            "text/plain": [
              "<IPython.core.display.Image object>"
            ]
          },
          "metadata": {},
          "output_type": "display_data"
        }
      ],
      "source": [
        "from IPython.display import Image, display\n",
        "\n",
        "display(Image(graph.get_graph().draw_mermaid_png()))"
      ]
    },
    {
      "cell_type": "markdown",
      "metadata": {},
      "source": [
        "- 질문을 변경해보면서 `rewrite` 노드가 활성화되는지 확인해보세요"
      ]
    },
    {
      "cell_type": "code",
      "execution_count": null,
      "metadata": {},
      "outputs": [],
      "source": [
        "initial_state = {'query': '연봉 5천만원 세금'}\n",
        "graph.invoke(initial_state)"
      ]
    },
    {
      "cell_type": "code",
      "execution_count": null,
      "metadata": {},
      "outputs": [],
      "source": []
    }
  ],
  "metadata": {
    "kernelspec": {
      "display_name": "agent",
      "language": "python",
      "name": "python3"
    },
    "language_info": {
      "codemirror_mode": {
        "name": "ipython",
        "version": 3
      },
      "file_extension": ".py",
      "mimetype": "text/x-python",
      "name": "python",
      "nbconvert_exporter": "python",
      "pygments_lexer": "ipython3",
      "version": "3.11.11"
    }
  },
  "nbformat": 4,
  "nbformat_minor": 2
}
