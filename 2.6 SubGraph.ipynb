{
 "cells": [
  {
   "cell_type": "markdown",
   "metadata": {},
   "source": [
    "# 2.6 SubGraph: LangGraph Agent를 Node로 활용하는 방법"
   ]
  },
  {
   "cell_type": "markdown",
   "metadata": {},
   "source": [
    "- [Adaptive-RAG: Learning to Adapt Retrieval-Augmented Large Language Models through Question Complexity](https://arxiv.org/abs/2403.14403)논문을 구현합니다\n",
    "- LangGraph 공식문서의 흐름을 따라갑니다\n",
    "    - 공식문서의 흐름은 간소화된 버전입니다\n",
    "    - 실제 논문과 유사한 구현은 3.3강을 참고해주세요\n",
    "\n",
    "![adaptive-rag](https://i.imgur.com/tbICSxY.png)"
   ]
  },
  {
   "cell_type": "code",
   "execution_count": 1,
   "metadata": {},
   "outputs": [
    {
     "data": {
      "text/plain": [
       "True"
      ]
     },
     "execution_count": 1,
     "metadata": {},
     "output_type": "execute_result"
    }
   ],
   "source": [
    "from dotenv import load_dotenv\n",
    "\n",
    "load_dotenv()"
   ]
  },
  {
   "cell_type": "code",
   "execution_count": 2,
   "metadata": {},
   "outputs": [],
   "source": [
    "from typing_extensions import TypedDict\n",
    "from langgraph.graph import StateGraph\n",
    "\n",
    "class AgentState(TypedDict):\n",
    "    query: str\n",
    "    context: list\n",
    "    answer: str\n",
    "    \n",
    "graph_builder = StateGraph(AgentState)"
   ]
  },
  {
   "cell_type": "code",
   "execution_count": 3,
   "metadata": {},
   "outputs": [],
   "source": [
    "from langchain_community.tools import TavilySearchResults\n",
    "\n",
    "tavily_search_tool = TavilySearchResults(\n",
    "    max_results=3,\n",
    "    search_depth=\"advanced\",\n",
    "    include_answer=True,\n",
    "    include_raw_content=True,\n",
    "    include_images=True,\n",
    ")\n",
    "\n",
    "def web_search(state: AgentState) -> AgentState:\n",
    "    \"\"\"\n",
    "    주어진 state를 기반으로 웹 검색을 수행합니다.\n",
    "\n",
    "    Args:\n",
    "        state (AgentState): 사용자의 질문을 포함한 에이전트의 현재 state.\n",
    "\n",
    "    Returns:\n",
    "        AgentState: 웹 검색 결과가 추가된 state를 반환합니다.\n",
    "    \"\"\"\n",
    "    query = state['query']\n",
    "    results = tavily_search_tool.invoke(query)\n",
    "\n",
    "    return {'context': results}"
   ]
  },
  {
   "cell_type": "code",
   "execution_count": 3,
   "metadata": {},
   "outputs": [],
   "source": [
    "from langchain import hub\n",
    "from langchain_openai import ChatOpenAI\n",
    "from langchain_core.output_parsers import StrOutputParser\n",
    "\n",
    "# LangChain 허브에서 프롬프트를 가져옵니다\n",
    "generate_prompt = hub.pull(\"rlm/rag-prompt\")\n",
    "# OpenAI의 GPT-4o 모델을 사용합니다\n",
    "generate_llm = ChatOpenAI(model=\"gpt-4o\")\n",
    "\n",
    "def web_generate(state: AgentState) -> AgentState:\n",
    "    \"\"\"\n",
    "    주어진 문맥과 질문을 기반으로 답변을 생성합니다.\n",
    "\n",
    "    Args:\n",
    "        state (AgentState): 문맥과 질문을 포함한 에이전트의 현재 state.\n",
    "\n",
    "    Returns:\n",
    "        AgentState: 생성된 답변을 포함한 state를 반환합니다.\n",
    "    \"\"\"\n",
    "    # state에서 문맥과 질문을 추출합니다\n",
    "    context = state['context']\n",
    "    query = state['query']\n",
    "    \n",
    "    # 프롬프트와 모델, 출력 파서를 연결하여 체인을 생성합니다\n",
    "    rag_chain = generate_prompt | generate_llm | StrOutputParser()\n",
    "    \n",
    "    # 체인을 사용하여 답변을 생성합니다\n",
    "    response = rag_chain.invoke({'question': query, 'context': context})\n",
    "    \n",
    "    # 생성된 답변을 'answer'로 반환합니다\n",
    "    return {'answer': response}"
   ]
  },
  {
   "cell_type": "markdown",
   "metadata": {},
   "source": [
    "- 간단한 질문에 답변을 하는 경우 작은 모델을 활용해서 비용을 저감하고, 답변 생성 속도를 향상시킬 수 있습니다"
   ]
  },
  {
   "cell_type": "code",
   "execution_count": 5,
   "metadata": {},
   "outputs": [],
   "source": [
    "from langchain_openai import ChatOpenAI\n",
    "from langchain_core.output_parsers import StrOutputParser\n",
    "\n",
    "# OpenAI의 GPT-4o-mini 모델을 사용합니다\n",
    "basic_llm = ChatOpenAI(model=\"gpt-4o-mini\")\n",
    "\n",
    "def basic_generate(state: AgentState) -> AgentState:\n",
    "    \"\"\"\n",
    "    사용자의 질문에 기반하여 기본 답변을 생성합니다.\n",
    "\n",
    "    Args:\n",
    "        state (AgentState): 사용자의 질문을 포함한 에이전트의 현재 state.\n",
    "\n",
    "    Returns:\n",
    "        AgentState: 생성된 답변을 포함한 state를 반환합니다.\n",
    "    \"\"\"\n",
    "    # state에서 질문을 추출합니다\n",
    "    query = state['query']\n",
    "    \n",
    "    # 기본 LLM 체인을 생성합니다\n",
    "    basic_llm_chain = basic_llm | StrOutputParser()\n",
    "    \n",
    "    # 체인을 사용하여 답변을 생성합니다\n",
    "    llm_response = basic_llm_chain.invoke(query)\n",
    "    \n",
    "    # 생성된 답변을 'answer'로 반환합니다\n",
    "    return {'answer': llm_response}"
   ]
  },
  {
   "cell_type": "markdown",
   "metadata": {},
   "source": [
    "- 사용자의 질문이 들어오면 `router` 노드에서 사용자의 질문을 분석해서 적절한 노드로 이동합니다\n",
    "    - 사용자의 질문에 관한 내용이 vector store에 있는 경우 `income_tax_agent` 노드로 이동합니다\n",
    "    - 사용자의 질문이 간단한 경우 `basic_generate` 노드로 이동합니다\n",
    "    - 사용자의 질문이 웹 검색을 통해 답변을 얻을 수 있는 경우 `web_search` 노드로 이동합니다"
   ]
  },
  {
   "cell_type": "code",
   "execution_count": 6,
   "metadata": {},
   "outputs": [],
   "source": [
    "from langchain_core.prompts import ChatPromptTemplate\n",
    "from pydantic import BaseModel, Field\n",
    "from typing import Literal\n",
    "\n",
    "class Route(BaseModel):\n",
    "    target: Literal['vector_store', 'llm', 'web_search'] = Field(\n",
    "        description=\"The target for the query to answer\"\n",
    "    )\n",
    "\n",
    "router_system_prompt = \"\"\"\n",
    "You are an expert at routing a user's question to 'vector_store', 'llm', or 'web_search'.\n",
    "'vector_store' contains information about income tax up to December 2024.\n",
    "if you think the question is simple enough use 'llm'\n",
    "if you think you need to search the web to answer the question use 'web_search'\n",
    "\"\"\"\n",
    "\n",
    "\n",
    "router_prompt = ChatPromptTemplate.from_messages([\n",
    "    ('system', router_system_prompt),\n",
    "    ('user', '{query}')\n",
    "])\n",
    "\n",
    "router_llm = ChatOpenAI(model=\"gpt-4o-mini\")\n",
    "structured_router_llm = router_llm.with_structured_output(Route)\n",
    "\n",
    "def router(state: AgentState) -> Literal['vector_store', 'llm', 'web_search']:\n",
    "    \"\"\"\n",
    "    사용자의 질문에 기반하여 적절한 경로를 결정합니다.\n",
    "\n",
    "    Args:\n",
    "        state (AgentState): 사용자의 질문을 포함한 에이전트의 현재 state.\n",
    "\n",
    "    Returns:\n",
    "        Literal['vector_store', 'llm', 'web_search']: 질문을 처리하기 위한 적절한 경로를 나타내는 문자열.\n",
    "    \"\"\"\n",
    "    # state에서 질문을 추출합니다\n",
    "    query = state['query']\n",
    "    \n",
    "    # 프롬프트와 구조화된 라우터 LLM을 연결하여 체인을 생성합니다\n",
    "    router_chain = router_prompt | structured_router_llm \n",
    "    \n",
    "    # 체인을 사용하여 경로를 결정합니다\n",
    "    route = router_chain.invoke({'query': query})\n",
    "\n",
    "    # 결정된 경로의 타겟을 반환합니다\n",
    "    return route.target"
   ]
  },
  {
   "cell_type": "markdown",
   "metadata": {},
   "source": [
    "- `node`를 추가하고 `edge`로 연결합니다"
   ]
  },
  {
   "cell_type": "code",
   "execution_count": 7,
   "metadata": {},
   "outputs": [
    {
     "name": "stderr",
     "output_type": "stream",
     "text": [
      "/Users/jasonkang/.pyenv/versions/3.12.2/envs/inflearn-langgraph-lecture/lib/python3.12/site-packages/langsmith/client.py:256: LangSmithMissingAPIKeyWarning: API key must be provided when using hosted LangSmith API\n",
      "  warnings.warn(\n",
      "/Users/jasonkang/.pyenv/versions/3.12.2/envs/inflearn-langgraph-lecture/lib/python3.12/site-packages/langsmith/client.py:256: LangSmithMissingAPIKeyWarning: API key must be provided when using hosted LangSmith API\n",
      "  warnings.warn(\n",
      "/Users/jasonkang/.pyenv/versions/3.12.2/envs/inflearn-langgraph-lecture/lib/python3.12/site-packages/langsmith/client.py:256: LangSmithMissingAPIKeyWarning: API key must be provided when using hosted LangSmith API\n",
      "  warnings.warn(\n"
     ]
    },
    {
     "data": {
      "text/plain": [
       "<langgraph.graph.state.StateGraph at 0x1150f75c0>"
      ]
     },
     "execution_count": 7,
     "metadata": {},
     "output_type": "execute_result"
    }
   ],
   "source": [
    "from income_tax_graph import graph as income_tax_subgraph\n",
    "\n",
    "graph_builder.add_node('income_tax_agent', income_tax_subgraph)\n",
    "graph_builder.add_node('web_search', web_search)\n",
    "graph_builder.add_node('web_generate', web_generate)\n",
    "graph_builder.add_node('basic_generate', basic_generate)"
   ]
  },
  {
   "cell_type": "code",
   "execution_count": 8,
   "metadata": {},
   "outputs": [
    {
     "data": {
      "text/plain": [
       "<langgraph.graph.state.StateGraph at 0x1150f75c0>"
      ]
     },
     "execution_count": 8,
     "metadata": {},
     "output_type": "execute_result"
    }
   ],
   "source": [
    "from langgraph.graph import START, END\n",
    "\n",
    "graph_builder.add_conditional_edges(\n",
    "    START, \n",
    "    router,\n",
    "    {\n",
    "        'vector_store': 'income_tax_agent',\n",
    "        'llm': 'basic_generate',\n",
    "        'web_search': 'web_search'\n",
    "    }\n",
    ")\n",
    "\n",
    "graph_builder.add_edge('web_search', 'web_generate')\n",
    "graph_builder.add_edge('web_generate', END)\n",
    "graph_builder.add_edge('basic_generate', END)\n",
    "graph_builder.add_edge('income_tax_agent', END)"
   ]
  },
  {
   "cell_type": "code",
   "execution_count": 9,
   "metadata": {},
   "outputs": [],
   "source": [
    "graph = graph_builder.compile()"
   ]
  },
  {
   "cell_type": "code",
   "execution_count": 10,
   "metadata": {},
   "outputs": [
    {
     "data": {
      "image/png": "[encoded data removed]",
      "text/plain": [
       "<IPython.core.display.Image object>"
      ]
     },
     "metadata": {},
     "output_type": "display_data"
    }
   ],
   "source": [
    "from IPython.display import Image, display\n",
    "\n",
    "display(Image(graph.get_graph().draw_mermaid_png()))"
   ]
  },
  {
   "cell_type": "code",
   "execution_count": 11,
   "metadata": {},
   "outputs": [
    {
     "name": "stdout",
     "output_type": "stream",
     "text": [
      "router route == target='llm'\n",
      "route.target == llm\n"
     ]
    },
    {
     "data": {
      "text/plain": [
       "{'query': '대한민국의 수도는 어디인가요?', 'answer': '대한민국의 수도는 서울입니다.'}"
      ]
     },
     "execution_count": 11,
     "metadata": {},
     "output_type": "execute_result"
    }
   ],
   "source": [
    "initial_state = {'query': '대한민국의 수도는 어디인가요?'}\n",
    "graph.invoke(initial_state)"
   ]
  },
  {
   "cell_type": "code",
   "execution_count": 12,
   "metadata": {},
   "outputs": [
    {
     "name": "stdout",
     "output_type": "stream",
     "text": [
      "router route == target='vector_store'\n",
      "route.target == vector_store\n",
      "context == [Document(metadata={'source': './documents/income_tax.txt'}, page_content='② 제70조제1항, 제70조의2에 따른 제74조에 따라 차례로 할 것이 제70조제1항제2호에 따르며 서류를 제출하여야 한다는 경우에는 기준소득 중 거주자 본인이 된다(분산)과 제70조제2와 제74조에 따른 제료 및 제대법을 포함한다. 단, 차별제표청정인 그 업체를 남겨 제출한 경우로 그에 대하여 아니하다.<개정 2013. 1. 1.>\\n  ③ 제80조에 따른 수익과 관련의 경우에는 기초공제 중 거주자 본인이 된다(분산)과 그에 관한 적지사항을 분명히 한다.\\n[전문개정 2009. 12. 31.]\\n[제목개정 2014. 1. 1.]\\n제54조의2(공동사업에 대한 소득공제 등 특례) 제51조의3 또는 「조세특례제한법」에 따른 소득공제를 적용하거나 제59조의2에 따른 세액감면을 적용하는 경우 제54조제3항에 따라 공동사업자의 소득에 합산과세되는 특별세액거래의 지출․납입․투자 등의 금액이 있을 경우 주된 공동사업자의 소득에 합산과세되는 소득금액에 합산되어 주된 공동사업자의 합산과세세액은 공동사업소득액 또는 공동사업창출세액을 계산할 때 소득공제 또는 세액공제를 받을 수 있다. \\n[개정 2014. 1. 1.]\\n[전문개정 2009. 12. 31.]\\n[제목개정 2014. 1. 1.]\\n제2절 세액의 계산 <개정 2009. 12. 31.>\\n제1관 세율 <개정 2009. 12. 31.>\\n제55조(세율) 거주자의 종합소득에 대한 소득세는 해당 연도의 종합소득과세표준에 다음의 세율을 적용하여 계산한 금액(이하 \"종합소득과세표준세액\"이라 한다)을 그 세액으로 한다. <개정 2014. 1. 1., 2016. 12. 20., 2017. 12. 19., 2020. 12. 29., 2022. 12. 31.>\\n종합소득\\n┌───────────────┐\\n│ 과세표준의 6개 구간 │\\n├───────────────┤\\n│ 1,400만원 이하        │ 84만원 + (1,400만원을 초과하는 금액의 15%)  │\\n│ 1,400만원 초과        │ 84만원 + (5,000만원을 초과하는 금액의 24%)  │\\n│ 8,800만원 이하        │ 624만원 + (5,000만원을 초과하는 금액의 24%)  │\\n│ 8,800만원 초과        │ 1,536만원 + (8,800만원을 초과하는 금액의 35%)  │\\n│ 1.5억원 초과          │ 4,046만원 + (1,500만원을 초과하는 금액의 38%)  │\\n│ 3억원 초과            │ 6,460만원 + (3억원을 초과하는 금액의 40%)  │\\n│ 5억원 초과            │ 14,760만원 + (5억원을 초과하는 금액의 42%)  │\\n│ 10억원 초과           │ 38,406만원 + (10억원을 초과하는 금액의 45%)  │\\n└───────────────┘\\n② 거주자의 퇴직소득에 대한 소득세는 다음 각 호의 순서에 따라 계산한 금액(이하 ‘퇴직소득 산출세액’이라 한다)으로 한다. <개정 2013. 1. 1., 2014. 12. 23.>'), Document(metadata={'source': './documents/income_tax.txt'}, page_content='5년 이하: 30만원 → 납입연수\\n5년 초과 10년 이하: 150만원 + 50만원 × (납입연수 - 5년)\\n10년 초과 20년 이하: 400만원 + 80만원 × (납입연수 - 10년)\\n20년 초과: 1,200만원 + 120만원 × (납입연수 - 20년)\\n\\n② 직장근로자 초과관세환급금을 분배하여 지급받는 경우 세액의 계산 방법 등 필요한 사항은 대통령령으로 정한다. \\n<대통령 2014. 12. 23.>\\n<전문개정 2009. 12. 31.>\\n제64조(부동산매매업자에 대한 세액 계산의 특례)\\n1) 대통령령으로 정하는 부동산매매업(이하 “부동산매매업”이라 한다)을 영위하는 거주자가 이하 “부동산매매업자”라 한다)로서 종합소득세법에 제104조제1항제1호(본항을 포함한다) 및 제103조 또는 같은 조 제7항 각 호의 어느 하나에 해당하는 자산의 매매자익(이하 “주택등매매차익”이라 한다)이 있는 자의 종합소득 산출세액은 다음 각 호의 세액 중 많은 것으로 한다. \\n<개정 2014. 12. 23., 2017. 12. 19., 2020. 12. 29.>\\n1. 종합소득 산출세액\\n\\n다음 각 목에 따른 세액의 합계액\\n  가. 주택등매매차익에 따른 세율을 적용하여 산출한 세액의 합계액\\n  나. 종합소득세법 제55조에 따라 주택등매매차익에 대한 개별세액을 공제한 금액을 과세표준으로 하고 이에 제55조에 따른 세율을 적용하여 산출세액'), Document(metadata={'source': './documents/income_tax.txt'}, page_content='근무기한: 개월 수로 계산한다. 이 경우 1개월 미만의 기간이 있는 경우에는 이를 1개월로 본다.\\n종합소득: 봉급ㆍ상여 등 제20조제1항제1호 및 제23조에 따른 포괄소득(제12조전단에 따른 비과세소득은 제외한다)을 한다.\\n⑤ 삭제<2013. 1. 1.>\\n⑥ 퇴직소득의 범위 및 계산방법과 그 밖에 필요한 사항은 대통령령으로 정한다.<전문개정 2009. 12. 31.>\\n\\n제23조 <삭제 2006. 12. 30.>\\n제3절 소득금액의 계산\\n제5장 2009. 12. 31.>\\n제1항 총수입금액 <개정 2009. 12. 31.>\\n제24조(총수입금액의 계산) ① 거주자 각 소득에 대한 총수입액(총급여액과 총연금액을 포함한다. 이하 같다)은 해당 과세기간에 수입하였거나 수입할 금액의 합계액으로 한다.\\n② 제1항의 경우 금지 외의 자원을 수입할 때는 그 수입금액을 그 거래 당시의 가격에 의하여 계산한다.\\n총수입액을 계산할 때 수입하였거나 수입할 금액의 범위와 계산에 관한 필요한 사항은 대통령령으로 정한다.<전문개정 2009. 12. 31.>\\n제25조(총수입금액의 계산과 특례) ① 거주자가 부동산 또는 그 부동산상의 권리 등을 대여하거나 보증금ㆍ전세금 또는 이와 유사한 성질의 금액(이하 \"보증금\"이라 한다)을 받는 경우에는 대통령령으로 정하는 범에 따라 계산한 금액을 상속소득금액에산입할 때 총수입금액에 산입한다. 다만, 주택자금의 용도로 보이는 명저 1조(F) 또는 1세대당 3천미터 이하인 주택으로서 해당 세기기간이 기준시가가 2억인 이하 주택을 2026년 12월 31일까지 주택 수입 계산하지 아니하는 대여요금받는 경우에는 다음 중 하나의 하나에 해당하는 경우를 하며, 주택 수의 계산에 필요한 사항은 대통령령으로 정한다. <개정 2012. 1. 1., 2014. 1. 1., 2016. 12. 20, 2018. 12. 31, 2021. 12. 8, 2023. 12. 31.>\\n\\n3주택 이상을 소유하며 해당 주택의 보증금의 합계액이 3억원을 초과하는 경우  \\n주택당(해당 주택의 기준시가가 12억원 이하인 주택 주택에 포함하지 아니하는 것을 소유하거나 해당 주택의 보증금의 합계액이 3억원 이상인 경우로서 대통령령으로 정하는 금액을 초과하는 경우\\n거주자가 재산소득(資産所得) 또는 임금을 가사로 소비하지증명된 날에 지급받는 경우에 이를 소비하지 않고 사용하는 금액에 대해 가액에 해당하는 금액을 소비하지 않으면 소득금액에 대한 선입법의 사업소득금액에 산입한다.<삭제 2021. 12. 19.>\\n[시행일: 2026. 1. 1. <지방소득세법 제25조제1항제1호>]')]\n",
      "doc relevance response: {'Score': 1, 'Explanation': \"The question asks for the income tax of a resident with an annual income of 50 million won. The facts provided contain relevant information related to income tax calculations:\\n\\n1. The provided tax document outlines the tax brackets and corresponding tax rates for different income levels, which is directly relevant to calculating the income tax for a given annual income.\\n2. Specifically, the document mentions '종합소득과세표준세액' which relates to the taxed standard of comprehensive income, and provides a table of tax rates for different income ranges.\\n3. The income level of 50 million won falls within the tax brackets mentioned in the documents, specifically the bracket for incomes over 14 million won and under 88 million won.\\n\\nThus, the documents contain the necessary information to calculate the income tax for an income of 50 million won, making them relevant to the question. Therefore, the score is 1.\"}\n",
      "hallucination response: not hallucinated\n",
      "answer == 연봉 5천만원인 거주자의 소득세는 624만원입니다. 이는 5천만원을 초과하는 금액에 24%의 세율을 적용하여 계산됩니다.\n",
      "helpfulness response: {'Score': 0, 'Explanation': 'The student answer states that the income tax for a resident with an annual salary of 50 million won is 6.24 million won. However, the explanation given is incorrect. The student claims that the tax rate of 24% is applied to the amount exceeding 50 million won, but this is not how the income tax calculation works. The answer is based on incorrect information, and hence, it does not fully meet the criteria for relevance and correctness as per the question. Therefore, it receives a score of 0.'}\n",
      "context == [Document(metadata={'source': './documents/income_tax.txt'}, page_content='5년 이하: 30만원 → 납입연수\\n5년 초과 10년 이하: 150만원 + 50만원 × (납입연수 - 5년)\\n10년 초과 20년 이하: 400만원 + 80만원 × (납입연수 - 10년)\\n20년 초과: 1,200만원 + 120만원 × (납입연수 - 20년)\\n\\n② 직장근로자 초과관세환급금을 분배하여 지급받는 경우 세액의 계산 방법 등 필요한 사항은 대통령령으로 정한다. \\n<대통령 2014. 12. 23.>\\n<전문개정 2009. 12. 31.>\\n제64조(부동산매매업자에 대한 세액 계산의 특례)\\n1) 대통령령으로 정하는 부동산매매업(이하 “부동산매매업”이라 한다)을 영위하는 거주자가 이하 “부동산매매업자”라 한다)로서 종합소득세법에 제104조제1항제1호(본항을 포함한다) 및 제103조 또는 같은 조 제7항 각 호의 어느 하나에 해당하는 자산의 매매자익(이하 “주택등매매차익”이라 한다)이 있는 자의 종합소득 산출세액은 다음 각 호의 세액 중 많은 것으로 한다. \\n<개정 2014. 12. 23., 2017. 12. 19., 2020. 12. 29.>\\n1. 종합소득 산출세액\\n\\n다음 각 목에 따른 세액의 합계액\\n  가. 주택등매매차익에 따른 세율을 적용하여 산출한 세액의 합계액\\n  나. 종합소득세법 제55조에 따라 주택등매매차익에 대한 개별세액을 공제한 금액을 과세표준으로 하고 이에 제55조에 따른 세율을 적용하여 산출세액'), Document(metadata={'source': './documents/income_tax.txt'}, page_content='② 제70조제1항, 제70조의2에 따른 제74조에 따라 차례로 할 것이 제70조제1항제2호에 따르며 서류를 제출하여야 한다는 경우에는 기준소득 중 거주자 본인이 된다(분산)과 제70조제2와 제74조에 따른 제료 및 제대법을 포함한다. 단, 차별제표청정인 그 업체를 남겨 제출한 경우로 그에 대하여 아니하다.<개정 2013. 1. 1.>\\n  ③ 제80조에 따른 수익과 관련의 경우에는 기초공제 중 거주자 본인이 된다(분산)과 그에 관한 적지사항을 분명히 한다.\\n[전문개정 2009. 12. 31.]\\n[제목개정 2014. 1. 1.]\\n제54조의2(공동사업에 대한 소득공제 등 특례) 제51조의3 또는 「조세특례제한법」에 따른 소득공제를 적용하거나 제59조의2에 따른 세액감면을 적용하는 경우 제54조제3항에 따라 공동사업자의 소득에 합산과세되는 특별세액거래의 지출․납입․투자 등의 금액이 있을 경우 주된 공동사업자의 소득에 합산과세되는 소득금액에 합산되어 주된 공동사업자의 합산과세세액은 공동사업소득액 또는 공동사업창출세액을 계산할 때 소득공제 또는 세액공제를 받을 수 있다. \\n[개정 2014. 1. 1.]\\n[전문개정 2009. 12. 31.]\\n[제목개정 2014. 1. 1.]\\n제2절 세액의 계산 <개정 2009. 12. 31.>\\n제1관 세율 <개정 2009. 12. 31.>\\n제55조(세율) 거주자의 종합소득에 대한 소득세는 해당 연도의 종합소득과세표준에 다음의 세율을 적용하여 계산한 금액(이하 \"종합소득과세표준세액\"이라 한다)을 그 세액으로 한다. <개정 2014. 1. 1., 2016. 12. 20., 2017. 12. 19., 2020. 12. 29., 2022. 12. 31.>\\n종합소득\\n┌───────────────┐\\n│ 과세표준의 6개 구간 │\\n├───────────────┤\\n│ 1,400만원 이하        │ 84만원 + (1,400만원을 초과하는 금액의 15%)  │\\n│ 1,400만원 초과        │ 84만원 + (5,000만원을 초과하는 금액의 24%)  │\\n│ 8,800만원 이하        │ 624만원 + (5,000만원을 초과하는 금액의 24%)  │\\n│ 8,800만원 초과        │ 1,536만원 + (8,800만원을 초과하는 금액의 35%)  │\\n│ 1.5억원 초과          │ 4,046만원 + (1,500만원을 초과하는 금액의 38%)  │\\n│ 3억원 초과            │ 6,460만원 + (3억원을 초과하는 금액의 40%)  │\\n│ 5억원 초과            │ 14,760만원 + (5억원을 초과하는 금액의 42%)  │\\n│ 10억원 초과           │ 38,406만원 + (10억원을 초과하는 금액의 45%)  │\\n└───────────────┘\\n② 거주자의 퇴직소득에 대한 소득세는 다음 각 호의 순서에 따라 계산한 금액(이하 ‘퇴직소득 산출세액’이라 한다)으로 한다. <개정 2013. 1. 1., 2014. 12. 23.>'), Document(metadata={'source': './documents/income_tax.txt'}, page_content='이자소득에 대해서는 다음과 같이 규정하는 세율\\n가. 삭제<2017. 12. 19.>\\n나. 비영업대금의 이익에 대해서는 100분의 25. 단, ‘온라인투자연계금융업 및 이용자 보호에 관한 법률’ 제 법 금융위원회에 등록한 온라인투자연계금융업자를 통해 지급받는 이자소득에 대해서는 100분의 14 한다.\\n다. 제16조제1항제10호에 따른 직장공제기초발행금에 대해서는 기본세율\\n라. 그 밖의 이자소득에 대해서는 100분의 14\\n마. 배당소득에 대해서는 다음과 같이 규정하는 세율\\n바. 제17조제1항제8호에 따른 출자공동사업자의 배당소득에 대해서는 100분의 25\\n사. 그 밖의 배당소득에 대해서는 100분의 14\\n원천징수 대상 사업소득에 대해서는 100분의 3. 다만, 외국인 직업운동가가 한국프로스포츠산업법에 따른 스포츠 클럽 운영의 정 프로스포츠구단안에 계약(예외기간이 3년 이하인 경우로 한정한다)에 따라 종목을 제공하고 받는 소득에 대해서는 100분의 20으로 한다.\\n근로소득에 대해서는 기본세율. 다만, 임금근로자의 근로소득에 대해서는 100분의 6으로 한다.\\n공적연금소득에 대해서는 기본세율\\n제21조제3항제12호 및 제다목에 따른 연금계좌 말일에 운영실적에 따른 증가액을 연금소득변경 업소득에 대해서는 다음 각 목의 구분에 따른 세율. 이 경우 각 목의 요건을 동시에 충족하는 경우에 낮은 세율을 적용한다.\\n가. 연금소득자의 나이에 따른 다음의 세율\\n\\n| 나이(연금수령형태) | 세율          |\\n|----------------------|---------------|\\n| 70세 미만            | 10분의 5     |\\n| 70세 이상           | 80세 미만    | 10분의 4 |\\n| 80세 이상           | 10분의 3     |\\n\\n나. 삭제<2014. 12. 23.>\\n다. 사업할 때까지 연금수령으로 정하는 중신계약에 따라 받는 연금소득에 대해서는 100분의 4\\n제20조제3항제12호와 제13호에 따라 퇴직소득에 대해서는 다음 각 목의 구분에 따른 세율. 이 경우 연금 실세 수령과 및 연금수령 원천징수세율의 계정의 내용은 대출형으로 정한다.\\n가. 연금 실세 수령연차가 10년 미만인 경우: 연금수령 원천징수세율이 100분의 70\\n나. 연금 실세 수령연차가 10년을 초과하는 경우: 연금수령 원천징수세율이 100분의 60\\n기타소득에 대해서는 다음 규정하는 세율. 다만, 제8호를 적용하는 경우를 제외한다.\\n라. 제14조제1항제9호 및 마목에 해당하는 소득금액이 3억원을 초과하는 경우 그 초과하는 부분에 대해서는 100분의 30\\n제21조제1항제18호 및 제24조에 따른 기타소득에 대해서는 100분의 15\\n다. 삭제<2014. 12. 23.>\\n라. 그 밖의 기타소득에 대해서는 100분의 20\\n퇴직소득에 대해서는 기본세율\\n대통령령으로 정하는 봉사료에 대해서는 100분의 5')]\n",
      "doc relevance response: {'Score': 1, 'Explanation': 'To determine the relevance of the provided FACTS to the QUESTION, we need to assess if there are any keywords or semantic meanings in the FACTS that relate to the calculation of income tax for a person with an annual income of 50 million won.\\n\\n1. The first FACT discusses various categories of income tax and how they are applied, including the calculation of income tax based on comprehensive income tax standards, which is directly related to the QUESTION as it involves calculating income tax based on specified income brackets.\\n2. The second FACT further elaborates on the tax calculation process, mentioning specific tax rules and deductions, which could relate to calculating income tax for an individual earning a certain amount.\\n3. The third FACT provides specific tax rates for different types of income, including earned income, which would be directly applicable to calculating the income tax for someone earning 50 million won.\\n\\nDespite the complexity and additional information in the FACTS, they contain relevant details on income tax calculation that would be applicable to the QUESTION. Therefore, the FACTS are relevant, and the score is 1.'}\n",
      "hallucination response: not hallucinated\n",
      "answer == 연봉 5천만 원인 사람의 소득세는 624만 원입니다. 5천만 원이 8,800만 원 이하 구간에 해당하므로, 해당 구간의 세율을 적용하여 계산합니다.\n",
      "helpfulness response: {'Score': 1, 'Explanation': \"The student's answer directly addresses the question by providing the specific income tax amount (624만 원) for a person with an annual salary of 5천만 원. Additionally, the student explains the reasoning by stating that the salary falls within a specific tax bracket (below 8,800만 원) and that the tax rate for this bracket was used to calculate the tax. This explanation is concise and relevant, satisfying both criteria for grading.\"}\n"
     ]
    },
    {
     "data": {
      "text/plain": [
       "{'query': '연봉 5천만원인 사람의 소득세는 얼마인가요?',\n",
       " 'context': [Document(metadata={'source': './documents/income_tax.txt'}, page_content='5년 이하: 30만원 → 납입연수\\n5년 초과 10년 이하: 150만원 + 50만원 × (납입연수 - 5년)\\n10년 초과 20년 이하: 400만원 + 80만원 × (납입연수 - 10년)\\n20년 초과: 1,200만원 + 120만원 × (납입연수 - 20년)\\n\\n② 직장근로자 초과관세환급금을 분배하여 지급받는 경우 세액의 계산 방법 등 필요한 사항은 대통령령으로 정한다. \\n<대통령 2014. 12. 23.>\\n<전문개정 2009. 12. 31.>\\n제64조(부동산매매업자에 대한 세액 계산의 특례)\\n1) 대통령령으로 정하는 부동산매매업(이하 “부동산매매업”이라 한다)을 영위하는 거주자가 이하 “부동산매매업자”라 한다)로서 종합소득세법에 제104조제1항제1호(본항을 포함한다) 및 제103조 또는 같은 조 제7항 각 호의 어느 하나에 해당하는 자산의 매매자익(이하 “주택등매매차익”이라 한다)이 있는 자의 종합소득 산출세액은 다음 각 호의 세액 중 많은 것으로 한다. \\n<개정 2014. 12. 23., 2017. 12. 19., 2020. 12. 29.>\\n1. 종합소득 산출세액\\n\\n다음 각 목에 따른 세액의 합계액\\n  가. 주택등매매차익에 따른 세율을 적용하여 산출한 세액의 합계액\\n  나. 종합소득세법 제55조에 따라 주택등매매차익에 대한 개별세액을 공제한 금액을 과세표준으로 하고 이에 제55조에 따른 세율을 적용하여 산출세액'),\n",
       "  Document(metadata={'source': './documents/income_tax.txt'}, page_content='② 제70조제1항, 제70조의2에 따른 제74조에 따라 차례로 할 것이 제70조제1항제2호에 따르며 서류를 제출하여야 한다는 경우에는 기준소득 중 거주자 본인이 된다(분산)과 제70조제2와 제74조에 따른 제료 및 제대법을 포함한다. 단, 차별제표청정인 그 업체를 남겨 제출한 경우로 그에 대하여 아니하다.<개정 2013. 1. 1.>\\n  ③ 제80조에 따른 수익과 관련의 경우에는 기초공제 중 거주자 본인이 된다(분산)과 그에 관한 적지사항을 분명히 한다.\\n[전문개정 2009. 12. 31.]\\n[제목개정 2014. 1. 1.]\\n제54조의2(공동사업에 대한 소득공제 등 특례) 제51조의3 또는 「조세특례제한법」에 따른 소득공제를 적용하거나 제59조의2에 따른 세액감면을 적용하는 경우 제54조제3항에 따라 공동사업자의 소득에 합산과세되는 특별세액거래의 지출․납입․투자 등의 금액이 있을 경우 주된 공동사업자의 소득에 합산과세되는 소득금액에 합산되어 주된 공동사업자의 합산과세세액은 공동사업소득액 또는 공동사업창출세액을 계산할 때 소득공제 또는 세액공제를 받을 수 있다. \\n[개정 2014. 1. 1.]\\n[전문개정 2009. 12. 31.]\\n[제목개정 2014. 1. 1.]\\n제2절 세액의 계산 <개정 2009. 12. 31.>\\n제1관 세율 <개정 2009. 12. 31.>\\n제55조(세율) 거주자의 종합소득에 대한 소득세는 해당 연도의 종합소득과세표준에 다음의 세율을 적용하여 계산한 금액(이하 \"종합소득과세표준세액\"이라 한다)을 그 세액으로 한다. <개정 2014. 1. 1., 2016. 12. 20., 2017. 12. 19., 2020. 12. 29., 2022. 12. 31.>\\n종합소득\\n┌───────────────┐\\n│ 과세표준의 6개 구간 │\\n├───────────────┤\\n│ 1,400만원 이하        │ 84만원 + (1,400만원을 초과하는 금액의 15%)  │\\n│ 1,400만원 초과        │ 84만원 + (5,000만원을 초과하는 금액의 24%)  │\\n│ 8,800만원 이하        │ 624만원 + (5,000만원을 초과하는 금액의 24%)  │\\n│ 8,800만원 초과        │ 1,536만원 + (8,800만원을 초과하는 금액의 35%)  │\\n│ 1.5억원 초과          │ 4,046만원 + (1,500만원을 초과하는 금액의 38%)  │\\n│ 3억원 초과            │ 6,460만원 + (3억원을 초과하는 금액의 40%)  │\\n│ 5억원 초과            │ 14,760만원 + (5억원을 초과하는 금액의 42%)  │\\n│ 10억원 초과           │ 38,406만원 + (10억원을 초과하는 금액의 45%)  │\\n└───────────────┘\\n② 거주자의 퇴직소득에 대한 소득세는 다음 각 호의 순서에 따라 계산한 금액(이하 ‘퇴직소득 산출세액’이라 한다)으로 한다. <개정 2013. 1. 1., 2014. 12. 23.>'),\n",
       "  Document(metadata={'source': './documents/income_tax.txt'}, page_content='이자소득에 대해서는 다음과 같이 규정하는 세율\\n가. 삭제<2017. 12. 19.>\\n나. 비영업대금의 이익에 대해서는 100분의 25. 단, ‘온라인투자연계금융업 및 이용자 보호에 관한 법률’ 제 법 금융위원회에 등록한 온라인투자연계금융업자를 통해 지급받는 이자소득에 대해서는 100분의 14 한다.\\n다. 제16조제1항제10호에 따른 직장공제기초발행금에 대해서는 기본세율\\n라. 그 밖의 이자소득에 대해서는 100분의 14\\n마. 배당소득에 대해서는 다음과 같이 규정하는 세율\\n바. 제17조제1항제8호에 따른 출자공동사업자의 배당소득에 대해서는 100분의 25\\n사. 그 밖의 배당소득에 대해서는 100분의 14\\n원천징수 대상 사업소득에 대해서는 100분의 3. 다만, 외국인 직업운동가가 한국프로스포츠산업법에 따른 스포츠 클럽 운영의 정 프로스포츠구단안에 계약(예외기간이 3년 이하인 경우로 한정한다)에 따라 종목을 제공하고 받는 소득에 대해서는 100분의 20으로 한다.\\n근로소득에 대해서는 기본세율. 다만, 임금근로자의 근로소득에 대해서는 100분의 6으로 한다.\\n공적연금소득에 대해서는 기본세율\\n제21조제3항제12호 및 제다목에 따른 연금계좌 말일에 운영실적에 따른 증가액을 연금소득변경 업소득에 대해서는 다음 각 목의 구분에 따른 세율. 이 경우 각 목의 요건을 동시에 충족하는 경우에 낮은 세율을 적용한다.\\n가. 연금소득자의 나이에 따른 다음의 세율\\n\\n| 나이(연금수령형태) | 세율          |\\n|----------------------|---------------|\\n| 70세 미만            | 10분의 5     |\\n| 70세 이상           | 80세 미만    | 10분의 4 |\\n| 80세 이상           | 10분의 3     |\\n\\n나. 삭제<2014. 12. 23.>\\n다. 사업할 때까지 연금수령으로 정하는 중신계약에 따라 받는 연금소득에 대해서는 100분의 4\\n제20조제3항제12호와 제13호에 따라 퇴직소득에 대해서는 다음 각 목의 구분에 따른 세율. 이 경우 연금 실세 수령과 및 연금수령 원천징수세율의 계정의 내용은 대출형으로 정한다.\\n가. 연금 실세 수령연차가 10년 미만인 경우: 연금수령 원천징수세율이 100분의 70\\n나. 연금 실세 수령연차가 10년을 초과하는 경우: 연금수령 원천징수세율이 100분의 60\\n기타소득에 대해서는 다음 규정하는 세율. 다만, 제8호를 적용하는 경우를 제외한다.\\n라. 제14조제1항제9호 및 마목에 해당하는 소득금액이 3억원을 초과하는 경우 그 초과하는 부분에 대해서는 100분의 30\\n제21조제1항제18호 및 제24조에 따른 기타소득에 대해서는 100분의 15\\n다. 삭제<2014. 12. 23.>\\n라. 그 밖의 기타소득에 대해서는 100분의 20\\n퇴직소득에 대해서는 기본세율\\n대통령령으로 정하는 봉사료에 대해서는 100분의 5')],\n",
       " 'answer': '연봉 5천만 원인 사람의 소득세는 624만 원입니다. 5천만 원이 8,800만 원 이하 구간에 해당하므로, 해당 구간의 세율을 적용하여 계산합니다.'}"
      ]
     },
     "execution_count": 12,
     "metadata": {},
     "output_type": "execute_result"
    }
   ],
   "source": [
    "initial_state = {'query': '연봉 5천만원인 거주자의 소득세는 얼마인가요?'}\n",
    "graph.invoke(initial_state)"
   ]
  },
  {
   "cell_type": "code",
   "execution_count": 13,
   "metadata": {},
   "outputs": [
    {
     "name": "stdout",
     "output_type": "stream",
     "text": [
      "router route == target='web_search'\n",
      "route.target == web_search\n",
      "web search results == [{'url': 'https://forourtour.com/역삼동-맛집/', 'content': '역삼동 맛집 추천 베스트 10 | 역삼역 강남역 데이트 | 점심 저녁 핫플 국내 맛집 역삼동 맛집 추천 베스트 10 | 역삼역 강남역 데이트 | 점심 저녁 핫플 관련 검색어에는 서울 역삼동 맛집 추천 베스트 한식 일식 술집 점심 저녁 핫플 역삼역 강남역 센터필드 데이트 놀거리 지도 음식점 분위기 재방문 리뷰 리스트 입니다. 역삼동 맛집 추천 모음 호보식당: 역삼역 핫플 마늘갈비 추천 맛집 – 홈페이지 바로가기 이 곳의 대표 메뉴인 마늘갈비는 마늘 양념이 잔뜩 올라간 갈비로, 바질, 할라피뇨, 고수로 만든 특제 소스 조합으로 함께 먹으면 더욱 맛있다고 합니다. 떡도리탕: 역삼동 점심 저녁 추천 맛집 – 거리뷰 바로가기 유니네 고깃간: 역삼동 저녁 추천 고기 맛집 – 거리뷰 바로가기 사이드 메뉴인 김치말이냉국수도 맛있다고 하니 함께 드셔보시길 추천합니다. 미도인 강남: 역삼동 데이트 추천 스테이크 맛집 – 거리뷰 바로가기'}, {'url': 'https://jspringlife.com/entry/역삼역-맛집-💖-요즘-뜨겁게-핫한-역삼역-맛집-Top-8-😎🔥', 'content': \"[역삼역 맛집 💖] 요즘 뜨겁게 핫한 역삼역 맛집 Top 8 😎🔥 [역삼역 맛집 💖] 요즘 뜨겁게 핫한 역삼역 맛집 Top 8 😎🔥 데이트 명소가 너무나 많은 역삼역 맛집에 대해서 알아볼 예정이에요. 그럼 역삼역 맛집 리뷰 시작할게요. [역삼역 맛집 💖] 요즘 뜨겁게 핫한 역삼역 맛집 Top 8 😎🔥 역삼역 맛집!! ✔ 후라토식당 매장 안내 주소 : 서울 강남구 테헤란로 152 지하 1층 P9호 ✔ 동화고옥 매장 안내 주소 : 서울 강남구 테헤란로 129 강남N타워 B2층 '모도우'란 빈틈없이 야무진 사람의 순우리말인 '모도리'와 소 우(牛)의 합성으로 '야무지게 차려낸 한우 다이닝'을 의미합니다. ✔ 모도우 매장 안내 주소 : 서울 강남구 테헤란로 129 강남N타워 B2층 제공 메뉴 : 모도우 런치 A코스(39,000원), 모도우 런치 B코스(59,000원), 모도우 런치 시그니처 코스(89,000원), 모도우 디너 A 코스(129,000원), 콜키지 프리(무료)\"}, {'url': 'https://jdblue2022.tistory.com/375', 'content': '오늘은 강남의 중심인 역삼역 근처의 맛집 베스트 10곳을 소개해드리고자 하는데 양대 포털의 플레이스를 중심으로 순위를 취합하여 역삼역 로컬 맛집들과 함께 여러 음식점을 묶어서 역삼 맛집을 정리해드리고자 합니다. 기본적인 맛집 선정 기준은 양대 검색 포털인 네이버(50%)를 비롯해 구글(50%'}]\n"
     ]
    },
    {
     "data": {
      "text/plain": [
       "{'query': '역삼 맛집을 추천해주세요',\n",
       " 'context': [{'url': 'https://forourtour.com/역삼동-맛집/',\n",
       "   'content': '역삼동 맛집 추천 베스트 10 | 역삼역 강남역 데이트 | 점심 저녁 핫플 국내 맛집 역삼동 맛집 추천 베스트 10 | 역삼역 강남역 데이트 | 점심 저녁 핫플 관련 검색어에는 서울 역삼동 맛집 추천 베스트 한식 일식 술집 점심 저녁 핫플 역삼역 강남역 센터필드 데이트 놀거리 지도 음식점 분위기 재방문 리뷰 리스트 입니다. 역삼동 맛집 추천 모음 호보식당: 역삼역 핫플 마늘갈비 추천 맛집 – 홈페이지 바로가기 이 곳의 대표 메뉴인 마늘갈비는 마늘 양념이 잔뜩 올라간 갈비로, 바질, 할라피뇨, 고수로 만든 특제 소스 조합으로 함께 먹으면 더욱 맛있다고 합니다. 떡도리탕: 역삼동 점심 저녁 추천 맛집 – 거리뷰 바로가기 유니네 고깃간: 역삼동 저녁 추천 고기 맛집 – 거리뷰 바로가기 사이드 메뉴인 김치말이냉국수도 맛있다고 하니 함께 드셔보시길 추천합니다. 미도인 강남: 역삼동 데이트 추천 스테이크 맛집 – 거리뷰 바로가기'},\n",
       "  {'url': 'https://jspringlife.com/entry/역삼역-맛집-💖-요즘-뜨겁게-핫한-역삼역-맛집-Top-8-😎🔥',\n",
       "   'content': \"[역삼역 맛집 💖] 요즘 뜨겁게 핫한 역삼역 맛집 Top 8 😎🔥 [역삼역 맛집 💖] 요즘 뜨겁게 핫한 역삼역 맛집 Top 8 😎🔥 데이트 명소가 너무나 많은 역삼역 맛집에 대해서 알아볼 예정이에요. 그럼 역삼역 맛집 리뷰 시작할게요. [역삼역 맛집 💖] 요즘 뜨겁게 핫한 역삼역 맛집 Top 8 😎🔥 역삼역 맛집!! ✔ 후라토식당 매장 안내 주소 : 서울 강남구 테헤란로 152 지하 1층 P9호 ✔ 동화고옥 매장 안내 주소 : 서울 강남구 테헤란로 129 강남N타워 B2층 '모도우'란 빈틈없이 야무진 사람의 순우리말인 '모도리'와 소 우(牛)의 합성으로 '야무지게 차려낸 한우 다이닝'을 의미합니다. ✔ 모도우 매장 안내 주소 : 서울 강남구 테헤란로 129 강남N타워 B2층 제공 메뉴 : 모도우 런치 A코스(39,000원), 모도우 런치 B코스(59,000원), 모도우 런치 시그니처 코스(89,000원), 모도우 디너 A 코스(129,000원), 콜키지 프리(무료)\"},\n",
       "  {'url': 'https://jdblue2022.tistory.com/375',\n",
       "   'content': '오늘은 강남의 중심인 역삼역 근처의 맛집 베스트 10곳을 소개해드리고자 하는데 양대 포털의 플레이스를 중심으로 순위를 취합하여 역삼역 로컬 맛집들과 함께 여러 음식점을 묶어서 역삼 맛집을 정리해드리고자 합니다. 기본적인 맛집 선정 기준은 양대 검색 포털인 네이버(50%)를 비롯해 구글(50%'}],\n",
       " 'answer': '역삼동 맛집으로는 마늘갈비가 유명한 호보식당, 점심과 저녁에 적합한 떡도리탕, 고기 맛집 유니네 고깃간, 그리고 스테이크 맛집 미도인 강남을 추천합니다.'}"
      ]
     },
     "execution_count": 13,
     "metadata": {},
     "output_type": "execute_result"
    }
   ],
   "source": [
    "initial_state = {'query': '역삼 맛집을 추천해주세요'}\n",
    "graph.invoke(initial_state)"
   ]
  },
  {
   "cell_type": "code",
   "execution_count": null,
   "metadata": {},
   "outputs": [],
   "source": []
  }
 ],
 "metadata": {
  "kernelspec": {
   "display_name": "agent",
   "language": "python",
   "name": "python3"
  },
  "language_info": {
   "codemirror_mode": {
    "name": "ipython",
    "version": 3
   },
   "file_extension": ".py",
   "mimetype": "text/x-python",
   "name": "python",
   "nbconvert_exporter": "python",
   "pygments_lexer": "ipython3",
   "version": "3.11.11"
  }
 },
 "nbformat": 4,
 "nbformat_minor": 2
}
